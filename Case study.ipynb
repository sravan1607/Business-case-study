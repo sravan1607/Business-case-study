{
 "cells": [
  {
   "cell_type": "markdown",
   "id": "190bcdb2",
   "metadata": {},
   "source": [
    "# Business case study"
   ]
  },
  {
   "cell_type": "markdown",
   "id": "5caf688b",
   "metadata": {},
   "source": [
    "## Task 1"
   ]
  },
  {
   "cell_type": "markdown",
   "id": "ecc5639b",
   "metadata": {},
   "source": [
    "#### Importing Pandas, loading dataset and performing basic EDA"
   ]
  },
  {
   "cell_type": "code",
   "execution_count": 2,
   "id": "98345ec7",
   "metadata": {},
   "outputs": [],
   "source": [
    "import pandas as pd"
   ]
  },
  {
   "cell_type": "code",
   "execution_count": 3,
   "id": "e6497a16",
   "metadata": {},
   "outputs": [],
   "source": [
    "df1 = pd.read_excel (r'D:\\Downloads\\Worksheet in Business case Interview.xlsx', sheet_name = 'GRQR')\n",
    "df2 = pd.read_excel (r'D:\\Downloads\\Worksheet in Business case Interview.xlsx', sheet_name = 'PO-QR')"
   ]
  },
  {
   "cell_type": "code",
   "execution_count": 7,
   "id": "0e42039a",
   "metadata": {},
   "outputs": [
    {
     "data": {
      "text/plain": [
       "(3634, 24)"
      ]
     },
     "execution_count": 7,
     "metadata": {},
     "output_type": "execute_result"
    }
   ],
   "source": [
    "df1.shape"
   ]
  },
  {
   "cell_type": "code",
   "execution_count": 8,
   "id": "068f570d",
   "metadata": {},
   "outputs": [
    {
     "data": {
      "text/plain": [
       "(7883, 30)"
      ]
     },
     "execution_count": 8,
     "metadata": {},
     "output_type": "execute_result"
    }
   ],
   "source": [
    "df2.shape"
   ]
  },
  {
   "cell_type": "code",
   "execution_count": 9,
   "id": "b70b7f33",
   "metadata": {},
   "outputs": [
    {
     "data": {
      "text/html": [
       "<div>\n",
       "<style scoped>\n",
       "    .dataframe tbody tr th:only-of-type {\n",
       "        vertical-align: middle;\n",
       "    }\n",
       "\n",
       "    .dataframe tbody tr th {\n",
       "        vertical-align: top;\n",
       "    }\n",
       "\n",
       "    .dataframe thead th {\n",
       "        text-align: right;\n",
       "    }\n",
       "</style>\n",
       "<table border=\"1\" class=\"dataframe\">\n",
       "  <thead>\n",
       "    <tr style=\"text-align: right;\">\n",
       "      <th></th>\n",
       "      <th>GR_PO_NUM</th>\n",
       "      <th>GR_PO_LINE_NUM</th>\n",
       "      <th>QR_PO_NUM</th>\n",
       "      <th>QR_PO_LINE_NUM</th>\n",
       "      <th>BTCH_NUM</th>\n",
       "      <th>SUP_BTCH_NUM</th>\n",
       "      <th>MATL_NUM</th>\n",
       "      <th>INTNL_BRND_CD</th>\n",
       "      <th>SUP_NUM</th>\n",
       "      <th>GR_SITE</th>\n",
       "      <th>...</th>\n",
       "      <th>FIRST_QR_DT</th>\n",
       "      <th>LAST_QR_DT</th>\n",
       "      <th>QR_QTY</th>\n",
       "      <th>UOM_CD</th>\n",
       "      <th>Process Step</th>\n",
       "      <th>Site</th>\n",
       "      <th>Start Date</th>\n",
       "      <th>End Date</th>\n",
       "      <th>Qty</th>\n",
       "      <th>UOM</th>\n",
       "    </tr>\n",
       "  </thead>\n",
       "  <tbody>\n",
       "    <tr>\n",
       "      <th>0</th>\n",
       "      <td>6500215459</td>\n",
       "      <td>10</td>\n",
       "      <td>NaN</td>\n",
       "      <td>NaN</td>\n",
       "      <td>M16BB1096</td>\n",
       "      <td>CCD-106-160005</td>\n",
       "      <td>498432</td>\n",
       "      <td>Brand-A</td>\n",
       "      <td>1024688</td>\n",
       "      <td>BEP7</td>\n",
       "      <td>...</td>\n",
       "      <td>2016-04-19</td>\n",
       "      <td>2016-04-19</td>\n",
       "      <td>1089.000</td>\n",
       "      <td>KG</td>\n",
       "      <td>API_3</td>\n",
       "      <td>chennai</td>\n",
       "      <td>2016-04-05</td>\n",
       "      <td>2016-04-19</td>\n",
       "      <td>1089.000</td>\n",
       "      <td>KG</td>\n",
       "    </tr>\n",
       "    <tr>\n",
       "      <th>1</th>\n",
       "      <td>600178789</td>\n",
       "      <td>1</td>\n",
       "      <td>NaN</td>\n",
       "      <td>NaN</td>\n",
       "      <td>17HG2163</td>\n",
       "      <td>MTMG10310</td>\n",
       "      <td>908771</td>\n",
       "      <td>Brand-A</td>\n",
       "      <td>430046294</td>\n",
       "      <td>1300</td>\n",
       "      <td>...</td>\n",
       "      <td>2017-11-09</td>\n",
       "      <td>2017-11-09</td>\n",
       "      <td>225.800</td>\n",
       "      <td>KG</td>\n",
       "      <td>Granulation</td>\n",
       "      <td>Kerala</td>\n",
       "      <td>2017-07-06</td>\n",
       "      <td>2017-11-09</td>\n",
       "      <td>225.800</td>\n",
       "      <td>KG</td>\n",
       "    </tr>\n",
       "    <tr>\n",
       "      <th>2</th>\n",
       "      <td>4300848301</td>\n",
       "      <td>10</td>\n",
       "      <td>NaN</td>\n",
       "      <td>NaN</td>\n",
       "      <td>GEZ09_2</td>\n",
       "      <td>GEZ09_1</td>\n",
       "      <td>414112</td>\n",
       "      <td>Brand-A</td>\n",
       "      <td>101446</td>\n",
       "      <td>IT10</td>\n",
       "      <td>...</td>\n",
       "      <td>2016-05-27</td>\n",
       "      <td>2016-05-27</td>\n",
       "      <td>142209.000</td>\n",
       "      <td>ST</td>\n",
       "      <td>Bulk</td>\n",
       "      <td>Hyderabad</td>\n",
       "      <td>2016-05-23</td>\n",
       "      <td>2016-05-27</td>\n",
       "      <td>142209.000</td>\n",
       "      <td>ST</td>\n",
       "    </tr>\n",
       "    <tr>\n",
       "      <th>3</th>\n",
       "      <td>4300968821</td>\n",
       "      <td>10</td>\n",
       "      <td>NaN</td>\n",
       "      <td>NaN</td>\n",
       "      <td>HKZ0Z_3</td>\n",
       "      <td>HKZ0Z_2</td>\n",
       "      <td>414110</td>\n",
       "      <td>Brand-A</td>\n",
       "      <td>101446</td>\n",
       "      <td>IT10</td>\n",
       "      <td>...</td>\n",
       "      <td>2017-12-20</td>\n",
       "      <td>2017-12-20</td>\n",
       "      <td>121425.000</td>\n",
       "      <td>ST</td>\n",
       "      <td>API_1</td>\n",
       "      <td>Hyderabad</td>\n",
       "      <td>2017-11-23</td>\n",
       "      <td>2017-12-20</td>\n",
       "      <td>121425.000</td>\n",
       "      <td>ST</td>\n",
       "    </tr>\n",
       "    <tr>\n",
       "      <th>4</th>\n",
       "      <td>6500215474</td>\n",
       "      <td>10</td>\n",
       "      <td>NaN</td>\n",
       "      <td>NaN</td>\n",
       "      <td>M16AB1305</td>\n",
       "      <td>B14313RPA</td>\n",
       "      <td>496506</td>\n",
       "      <td>Brand-A</td>\n",
       "      <td>1035984</td>\n",
       "      <td>BEP7</td>\n",
       "      <td>...</td>\n",
       "      <td>2017-11-10</td>\n",
       "      <td>2017-11-10</td>\n",
       "      <td>128.314</td>\n",
       "      <td>KG</td>\n",
       "      <td>API_1</td>\n",
       "      <td>chennai</td>\n",
       "      <td>2016-04-20</td>\n",
       "      <td>2017-11-10</td>\n",
       "      <td>128.314</td>\n",
       "      <td>KG</td>\n",
       "    </tr>\n",
       "  </tbody>\n",
       "</table>\n",
       "<p>5 rows × 24 columns</p>\n",
       "</div>"
      ],
      "text/plain": [
       "    GR_PO_NUM  GR_PO_LINE_NUM  QR_PO_NUM  QR_PO_LINE_NUM   BTCH_NUM  \\\n",
       "0  6500215459              10        NaN             NaN  M16BB1096   \n",
       "1   600178789               1        NaN             NaN   17HG2163   \n",
       "2  4300848301              10        NaN             NaN    GEZ09_2   \n",
       "3  4300968821              10        NaN             NaN    HKZ0Z_3   \n",
       "4  6500215474              10        NaN             NaN  M16AB1305   \n",
       "\n",
       "     SUP_BTCH_NUM  MATL_NUM INTNL_BRND_CD    SUP_NUM GR_SITE  ... FIRST_QR_DT  \\\n",
       "0  CCD-106-160005    498432       Brand-A    1024688    BEP7  ...  2016-04-19   \n",
       "1       MTMG10310    908771       Brand-A  430046294    1300  ...  2017-11-09   \n",
       "2         GEZ09_1    414112       Brand-A     101446    IT10  ...  2016-05-27   \n",
       "3         HKZ0Z_2    414110       Brand-A     101446    IT10  ...  2017-12-20   \n",
       "4       B14313RPA    496506       Brand-A    1035984    BEP7  ...  2017-11-10   \n",
       "\n",
       "  LAST_QR_DT      QR_QTY  UOM_CD Process Step       Site  Start Date  \\\n",
       "0 2016-04-19    1089.000      KG        API_3    chennai  2016-04-05   \n",
       "1 2017-11-09     225.800      KG  Granulation     Kerala  2017-07-06   \n",
       "2 2016-05-27  142209.000      ST         Bulk  Hyderabad  2016-05-23   \n",
       "3 2017-12-20  121425.000      ST        API_1  Hyderabad  2017-11-23   \n",
       "4 2017-11-10     128.314      KG        API_1    chennai  2016-04-20   \n",
       "\n",
       "    End Date         Qty UOM  \n",
       "0 2016-04-19    1089.000  KG  \n",
       "1 2017-11-09     225.800  KG  \n",
       "2 2016-05-27  142209.000  ST  \n",
       "3 2017-12-20  121425.000  ST  \n",
       "4 2017-11-10     128.314  KG  \n",
       "\n",
       "[5 rows x 24 columns]"
      ]
     },
     "execution_count": 9,
     "metadata": {},
     "output_type": "execute_result"
    }
   ],
   "source": [
    "df1.head()"
   ]
  },
  {
   "cell_type": "code",
   "execution_count": 10,
   "id": "c0ee34ab",
   "metadata": {},
   "outputs": [
    {
     "data": {
      "text/html": [
       "<div>\n",
       "<style scoped>\n",
       "    .dataframe tbody tr th:only-of-type {\n",
       "        vertical-align: middle;\n",
       "    }\n",
       "\n",
       "    .dataframe tbody tr th {\n",
       "        vertical-align: top;\n",
       "    }\n",
       "\n",
       "    .dataframe thead th {\n",
       "        text-align: right;\n",
       "    }\n",
       "</style>\n",
       "<table border=\"1\" class=\"dataframe\">\n",
       "  <thead>\n",
       "    <tr style=\"text-align: right;\">\n",
       "      <th></th>\n",
       "      <th>ORDER_NUM</th>\n",
       "      <th>ORDER_LINE_NBR</th>\n",
       "      <th>ORDER_TYPE_CD</th>\n",
       "      <th>ORDER_TYPE_DESC</th>\n",
       "      <th>PROC_MATL_NUM</th>\n",
       "      <th>PROC_MATL_TYPE_CD</th>\n",
       "      <th>PROC_MATL_TYPE_DESC</th>\n",
       "      <th>MFG_LOC_NUM</th>\n",
       "      <th>MFG_BTCH_NUM</th>\n",
       "      <th>MFG_MATL_PLAN_QTY</th>\n",
       "      <th>...</th>\n",
       "      <th>Site</th>\n",
       "      <th>Start Date</th>\n",
       "      <th>End Date</th>\n",
       "      <th>QR Date</th>\n",
       "      <th>Qty</th>\n",
       "      <th>QR Qty</th>\n",
       "      <th>UOM</th>\n",
       "      <th>Process Step</th>\n",
       "      <th>Planned Start Date</th>\n",
       "      <th>Generation</th>\n",
       "    </tr>\n",
       "  </thead>\n",
       "  <tbody>\n",
       "    <tr>\n",
       "      <th>0</th>\n",
       "      <td>1175702</td>\n",
       "      <td>1</td>\n",
       "      <td>RP01</td>\n",
       "      <td>Regular Process Order (PSGA)</td>\n",
       "      <td>908354</td>\n",
       "      <td>ZWIP</td>\n",
       "      <td>Z_Work-In-Process/Bulk</td>\n",
       "      <td>1300</td>\n",
       "      <td>16AG3754</td>\n",
       "      <td>111.68</td>\n",
       "      <td>...</td>\n",
       "      <td>Chenni</td>\n",
       "      <td>2016-02-02</td>\n",
       "      <td>2016-02-02 00:00:00</td>\n",
       "      <td>?</td>\n",
       "      <td>110.2</td>\n",
       "      <td>?</td>\n",
       "      <td>KG</td>\n",
       "      <td>Granulation</td>\n",
       "      <td>2015-11-10</td>\n",
       "      <td>Unlabelled</td>\n",
       "    </tr>\n",
       "    <tr>\n",
       "      <th>1</th>\n",
       "      <td>1175703</td>\n",
       "      <td>1</td>\n",
       "      <td>RP01</td>\n",
       "      <td>Regular Process Order (PSGA)</td>\n",
       "      <td>908354</td>\n",
       "      <td>ZWIP</td>\n",
       "      <td>Z_Work-In-Process/Bulk</td>\n",
       "      <td>1300</td>\n",
       "      <td>16AG3755</td>\n",
       "      <td>111.68</td>\n",
       "      <td>...</td>\n",
       "      <td>Chenni</td>\n",
       "      <td>2016-02-02</td>\n",
       "      <td>2016-02-02 00:00:00</td>\n",
       "      <td>?</td>\n",
       "      <td>110.5</td>\n",
       "      <td>?</td>\n",
       "      <td>KG</td>\n",
       "      <td>Granulation</td>\n",
       "      <td>2015-11-10</td>\n",
       "      <td>Unlabelled</td>\n",
       "    </tr>\n",
       "    <tr>\n",
       "      <th>2</th>\n",
       "      <td>1175704</td>\n",
       "      <td>1</td>\n",
       "      <td>RP01</td>\n",
       "      <td>Regular Process Order (PSGA)</td>\n",
       "      <td>908354</td>\n",
       "      <td>ZWIP</td>\n",
       "      <td>Z_Work-In-Process/Bulk</td>\n",
       "      <td>1300</td>\n",
       "      <td>16AG3756</td>\n",
       "      <td>111.68</td>\n",
       "      <td>...</td>\n",
       "      <td>Chenni</td>\n",
       "      <td>2016-02-02</td>\n",
       "      <td>2016-02-02 00:00:00</td>\n",
       "      <td>?</td>\n",
       "      <td>110.8</td>\n",
       "      <td>?</td>\n",
       "      <td>KG</td>\n",
       "      <td>Granulation</td>\n",
       "      <td>2015-11-10</td>\n",
       "      <td>Unlabelled</td>\n",
       "    </tr>\n",
       "    <tr>\n",
       "      <th>3</th>\n",
       "      <td>1175705</td>\n",
       "      <td>1</td>\n",
       "      <td>RP01</td>\n",
       "      <td>Regular Process Order (PSGA)</td>\n",
       "      <td>908354</td>\n",
       "      <td>ZWIP</td>\n",
       "      <td>Z_Work-In-Process/Bulk</td>\n",
       "      <td>1300</td>\n",
       "      <td>16AG3757</td>\n",
       "      <td>111.68</td>\n",
       "      <td>...</td>\n",
       "      <td>Chenni</td>\n",
       "      <td>2016-02-03</td>\n",
       "      <td>2016-02-03 00:00:00</td>\n",
       "      <td>?</td>\n",
       "      <td>111.0</td>\n",
       "      <td>?</td>\n",
       "      <td>KG</td>\n",
       "      <td>Granulation</td>\n",
       "      <td>2015-11-10</td>\n",
       "      <td>Unlabelled</td>\n",
       "    </tr>\n",
       "    <tr>\n",
       "      <th>4</th>\n",
       "      <td>1175706</td>\n",
       "      <td>1</td>\n",
       "      <td>RP01</td>\n",
       "      <td>Regular Process Order (PSGA)</td>\n",
       "      <td>908354</td>\n",
       "      <td>ZWIP</td>\n",
       "      <td>Z_Work-In-Process/Bulk</td>\n",
       "      <td>1300</td>\n",
       "      <td>16AG3758</td>\n",
       "      <td>111.68</td>\n",
       "      <td>...</td>\n",
       "      <td>Chenni</td>\n",
       "      <td>2016-02-03</td>\n",
       "      <td>2016-02-03 00:00:00</td>\n",
       "      <td>?</td>\n",
       "      <td>110.7</td>\n",
       "      <td>?</td>\n",
       "      <td>KG</td>\n",
       "      <td>Granulation</td>\n",
       "      <td>2015-11-10</td>\n",
       "      <td>Unlabelled</td>\n",
       "    </tr>\n",
       "  </tbody>\n",
       "</table>\n",
       "<p>5 rows × 30 columns</p>\n",
       "</div>"
      ],
      "text/plain": [
       "   ORDER_NUM  ORDER_LINE_NBR ORDER_TYPE_CD               ORDER_TYPE_DESC  \\\n",
       "0    1175702               1          RP01  Regular Process Order (PSGA)   \n",
       "1    1175703               1          RP01  Regular Process Order (PSGA)   \n",
       "2    1175704               1          RP01  Regular Process Order (PSGA)   \n",
       "3    1175705               1          RP01  Regular Process Order (PSGA)   \n",
       "4    1175706               1          RP01  Regular Process Order (PSGA)   \n",
       "\n",
       "   PROC_MATL_NUM PROC_MATL_TYPE_CD     PROC_MATL_TYPE_DESC MFG_LOC_NUM  \\\n",
       "0         908354              ZWIP  Z_Work-In-Process/Bulk        1300   \n",
       "1         908354              ZWIP  Z_Work-In-Process/Bulk        1300   \n",
       "2         908354              ZWIP  Z_Work-In-Process/Bulk        1300   \n",
       "3         908354              ZWIP  Z_Work-In-Process/Bulk        1300   \n",
       "4         908354              ZWIP  Z_Work-In-Process/Bulk        1300   \n",
       "\n",
       "  MFG_BTCH_NUM  MFG_MATL_PLAN_QTY  ...    Site Start Date  \\\n",
       "0     16AG3754             111.68  ...  Chenni 2016-02-02   \n",
       "1     16AG3755             111.68  ...  Chenni 2016-02-02   \n",
       "2     16AG3756             111.68  ...  Chenni 2016-02-02   \n",
       "3     16AG3757             111.68  ...  Chenni 2016-02-03   \n",
       "4     16AG3758             111.68  ...  Chenni 2016-02-03   \n",
       "\n",
       "              End Date QR Date    Qty QR Qty UOM Process Step  \\\n",
       "0  2016-02-02 00:00:00       ?  110.2      ?  KG  Granulation   \n",
       "1  2016-02-02 00:00:00       ?  110.5      ?  KG  Granulation   \n",
       "2  2016-02-02 00:00:00       ?  110.8      ?  KG  Granulation   \n",
       "3  2016-02-03 00:00:00       ?  111.0      ?  KG  Granulation   \n",
       "4  2016-02-03 00:00:00       ?  110.7      ?  KG  Granulation   \n",
       "\n",
       "  Planned Start Date  Generation  \n",
       "0         2015-11-10  Unlabelled  \n",
       "1         2015-11-10  Unlabelled  \n",
       "2         2015-11-10  Unlabelled  \n",
       "3         2015-11-10  Unlabelled  \n",
       "4         2015-11-10  Unlabelled  \n",
       "\n",
       "[5 rows x 30 columns]"
      ]
     },
     "execution_count": 10,
     "metadata": {},
     "output_type": "execute_result"
    }
   ],
   "source": [
    "df2.head()"
   ]
  },
  {
   "cell_type": "code",
   "execution_count": 11,
   "id": "b0e23a88",
   "metadata": {},
   "outputs": [
    {
     "name": "stdout",
     "output_type": "stream",
     "text": [
      "<class 'pandas.core.frame.DataFrame'>\n",
      "RangeIndex: 3634 entries, 0 to 3633\n",
      "Data columns (total 24 columns):\n",
      " #   Column          Non-Null Count  Dtype         \n",
      "---  ------          --------------  -----         \n",
      " 0   GR_PO_NUM       3634 non-null   int64         \n",
      " 1   GR_PO_LINE_NUM  3634 non-null   int64         \n",
      " 2   QR_PO_NUM       0 non-null      float64       \n",
      " 3   QR_PO_LINE_NUM  0 non-null      float64       \n",
      " 4   BTCH_NUM        3634 non-null   object        \n",
      " 5   SUP_BTCH_NUM    3634 non-null   object        \n",
      " 6   MATL_NUM        3634 non-null   int64         \n",
      " 7   INTNL_BRND_CD   3634 non-null   object        \n",
      " 8   SUP_NUM         3634 non-null   object        \n",
      " 9   GR_SITE         3634 non-null   object        \n",
      " 10  MATL_TYPE_CD    3634 non-null   object        \n",
      " 11  MATL_TYPE_DESC  3634 non-null   object        \n",
      " 12  GR_DT           3634 non-null   datetime64[ns]\n",
      " 13  GR_QTY          3634 non-null   float64       \n",
      " 14  FIRST_QR_DT     3634 non-null   datetime64[ns]\n",
      " 15  LAST_QR_DT      3634 non-null   datetime64[ns]\n",
      " 16  QR_QTY          3634 non-null   float64       \n",
      " 17  UOM_CD          3634 non-null   object        \n",
      " 18  Process Step    3634 non-null   object        \n",
      " 19  Site            3634 non-null   object        \n",
      " 20  Start Date      3634 non-null   datetime64[ns]\n",
      " 21  End Date        3634 non-null   datetime64[ns]\n",
      " 22  Qty             3634 non-null   float64       \n",
      " 23  UOM             3634 non-null   object        \n",
      "dtypes: datetime64[ns](5), float64(5), int64(3), object(11)\n",
      "memory usage: 681.5+ KB\n"
     ]
    }
   ],
   "source": [
    "df1.info()"
   ]
  },
  {
   "cell_type": "code",
   "execution_count": 12,
   "id": "55c71be4",
   "metadata": {},
   "outputs": [
    {
     "name": "stdout",
     "output_type": "stream",
     "text": [
      "<class 'pandas.core.frame.DataFrame'>\n",
      "RangeIndex: 7883 entries, 0 to 7882\n",
      "Data columns (total 30 columns):\n",
      " #   Column               Non-Null Count  Dtype         \n",
      "---  ------               --------------  -----         \n",
      " 0   ORDER_NUM            7883 non-null   int64         \n",
      " 1   ORDER_LINE_NBR       7883 non-null   int64         \n",
      " 2   ORDER_TYPE_CD        7883 non-null   object        \n",
      " 3   ORDER_TYPE_DESC      7883 non-null   object        \n",
      " 4   PROC_MATL_NUM        7883 non-null   int64         \n",
      " 5   PROC_MATL_TYPE_CD    7883 non-null   object        \n",
      " 6   PROC_MATL_TYPE_DESC  7883 non-null   object        \n",
      " 7   MFG_LOC_NUM          7883 non-null   object        \n",
      " 8   MFG_BTCH_NUM         7883 non-null   object        \n",
      " 9   MFG_MATL_PLAN_QTY    7883 non-null   float64       \n",
      " 10  MFG_MATL_ACT_QTY     7883 non-null   float64       \n",
      " 11  MFG_UOM_CD           7883 non-null   object        \n",
      " 12  MFG_PLAN_STRT_DT     7883 non-null   datetime64[ns]\n",
      " 13  MFG_ACTL_STRT_DT     7883 non-null   datetime64[ns]\n",
      " 14  MFG_ACTL_END_DT      7883 non-null   object        \n",
      " 15  QR_MATL_QTY          7883 non-null   object        \n",
      " 16  QR_UOM_CD            7883 non-null   object        \n",
      " 17  FIRST_QR_DATE        7883 non-null   object        \n",
      " 18  LAST_QR_DATE         7883 non-null   object        \n",
      " 19  SRC_SYS_CD           0 non-null      float64       \n",
      " 20  Site                 7883 non-null   object        \n",
      " 21  Start Date           7883 non-null   datetime64[ns]\n",
      " 22  End Date             7883 non-null   object        \n",
      " 23  QR Date              7883 non-null   object        \n",
      " 24  Qty                  7883 non-null   float64       \n",
      " 25  QR Qty               7883 non-null   object        \n",
      " 26  UOM                  7883 non-null   object        \n",
      " 27  Process Step         7883 non-null   object        \n",
      " 28  Planned Start Date   7883 non-null   datetime64[ns]\n",
      " 29  Generation           7883 non-null   object        \n",
      "dtypes: datetime64[ns](4), float64(4), int64(3), object(19)\n",
      "memory usage: 1.8+ MB\n"
     ]
    }
   ],
   "source": [
    "df2.info()"
   ]
  },
  {
   "cell_type": "markdown",
   "id": "ff3896f0",
   "metadata": {},
   "source": [
    "#### Changing the data type of \"End date\" column in PO-QR sheet"
   ]
  },
  {
   "cell_type": "code",
   "execution_count": 4,
   "id": "1da46473",
   "metadata": {},
   "outputs": [],
   "source": [
    "df2['End Date'] = pd.to_datetime(df2['End Date'], dayfirst=True, errors='coerce')"
   ]
  },
  {
   "cell_type": "code",
   "execution_count": 5,
   "id": "9b8ab071",
   "metadata": {},
   "outputs": [
    {
     "name": "stdout",
     "output_type": "stream",
     "text": [
      "Int64Index([  69,  591,  668,  688,  694,  695,  696,  920,  921,  923, 1022,\n",
      "            1128, 1160, 1510, 1511, 1512, 1600, 1601, 1602, 1775, 2088, 2120,\n",
      "            2794, 2795, 2867, 2869, 3055, 3116, 3212, 3479, 3753, 3762, 4038,\n",
      "            4039, 4040, 4041, 4042, 4043, 4082, 4083, 4116, 4237, 4607, 4617,\n",
      "            4618, 4619, 4620, 4621, 4624, 4625, 4626, 4627, 4637, 4638, 4639,\n",
      "            4640, 4641, 4642, 4643, 4644, 4645, 4646, 4647, 4649, 4650, 4651,\n",
      "            4661, 4674, 4694, 4760, 4774, 4779, 4807, 4814, 4815, 4816, 4817,\n",
      "            4832, 5080, 5082, 5116, 5117, 5330, 5525, 5528, 5664, 5705, 5711,\n",
      "            5793, 6333, 6708, 6834, 7544],\n",
      "           dtype='int64')\n"
     ]
    }
   ],
   "source": [
    "idx = df2[df2['End Date'].isnull()].index\n",
    "print (idx)"
   ]
  },
  {
   "cell_type": "code",
   "execution_count": 6,
   "id": "cbe3a11e",
   "metadata": {},
   "outputs": [
    {
     "data": {
      "text/plain": [
       "93"
      ]
     },
     "execution_count": 6,
     "metadata": {},
     "output_type": "execute_result"
    }
   ],
   "source": [
    "len(idx)"
   ]
  },
  {
   "cell_type": "markdown",
   "id": "1606a55a",
   "metadata": {},
   "source": [
    "#### Checking unique values in each column, removing duplicates and performing combination"
   ]
  },
  {
   "cell_type": "code",
   "execution_count": 7,
   "id": "50d0accb",
   "metadata": {},
   "outputs": [
    {
     "data": {
      "text/plain": [
       "array(['chennai', 'Kerala', 'Hyderabad'], dtype=object)"
      ]
     },
     "execution_count": 7,
     "metadata": {},
     "output_type": "execute_result"
    }
   ],
   "source": [
    "df1['Site'].unique()"
   ]
  },
  {
   "cell_type": "code",
   "execution_count": 8,
   "id": "593a6bb2",
   "metadata": {},
   "outputs": [],
   "source": [
    "df1['Site'] = df1['Site'].replace(['chennai'],'Chennai')"
   ]
  },
  {
   "cell_type": "code",
   "execution_count": 9,
   "id": "a705d7a4",
   "metadata": {},
   "outputs": [
    {
     "data": {
      "text/plain": [
       "array(['API_3', 'Granulation', 'Bulk', 'API_1', 'API_8'], dtype=object)"
      ]
     },
     "execution_count": 9,
     "metadata": {},
     "output_type": "execute_result"
    }
   ],
   "source": [
    "df1['Process Step'].unique()"
   ]
  },
  {
   "cell_type": "code",
   "execution_count": 10,
   "id": "a8dbddf2",
   "metadata": {},
   "outputs": [
    {
     "data": {
      "text/plain": [
       "[2016, 2017, 2018, 2019]"
      ]
     },
     "execution_count": 10,
     "metadata": {},
     "output_type": "execute_result"
    }
   ],
   "source": [
    "list(set(pd.DatetimeIndex(df1['Start Date']).year))"
   ]
  },
  {
   "cell_type": "code",
   "execution_count": 11,
   "id": "b941b0d3",
   "metadata": {},
   "outputs": [
    {
     "data": {
      "text/plain": [
       "['2018_Bulk_Kerala',\n",
       " '2018_API_8_Hyderabad',\n",
       " '2017_API_3_Hyderabad',\n",
       " '2018_Bulk_Chennai',\n",
       " '2018_API_8_Kerala',\n",
       " '2016_Granulation_Hyderabad',\n",
       " '2016_API_8_Hyderabad',\n",
       " '2017_Bulk_Hyderabad',\n",
       " '2019_API_3_Chennai',\n",
       " '2018_API_1_Hyderabad',\n",
       " '2019_API_8_Kerala',\n",
       " '2017_API_8_Hyderabad',\n",
       " '2016_Granulation_Kerala',\n",
       " '2019_Granulation_Kerala',\n",
       " '2018_Granulation_Hyderabad',\n",
       " '2018_API_1_Kerala',\n",
       " '2018_API_8_Chennai',\n",
       " '2018_Bulk_Hyderabad',\n",
       " '2016_API_8_Kerala',\n",
       " '2019_API_3_Kerala',\n",
       " '2018_API_1_Chennai',\n",
       " '2017_Bulk_Chennai',\n",
       " '2016_Bulk_Hyderabad',\n",
       " '2016_API_1_Hyderabad',\n",
       " '2017_API_8_Kerala',\n",
       " '2016_API_8_Chennai',\n",
       " '2016_Bulk_Kerala',\n",
       " '2017_Bulk_Kerala',\n",
       " '2016_API_3_Hyderabad',\n",
       " '2019_Bulk_Chennai',\n",
       " '2019_Granulation_Chennai',\n",
       " '2018_Granulation_Chennai',\n",
       " '2016_API_3_Chennai',\n",
       " '2017_API_8_Chennai',\n",
       " '2019_API_3_Hyderabad',\n",
       " '2018_Granulation_Kerala',\n",
       " '2016_API_3_Kerala',\n",
       " '2017_Granulation_Kerala',\n",
       " '2019_Bulk_Hyderabad',\n",
       " '2018_API_3_Kerala',\n",
       " '2017_API_1_Chennai',\n",
       " '2019_API_1_Hyderabad',\n",
       " '2017_API_1_Kerala',\n",
       " '2018_API_3_Hyderabad',\n",
       " '2017_Granulation_Chennai',\n",
       " '2019_API_8_Chennai',\n",
       " '2018_API_3_Chennai',\n",
       " '2017_API_3_Chennai',\n",
       " '2019_Bulk_Kerala',\n",
       " '2016_API_1_Kerala',\n",
       " '2016_Granulation_Chennai',\n",
       " '2019_Granulation_Hyderabad',\n",
       " '2017_API_3_Kerala',\n",
       " '2016_API_1_Chennai',\n",
       " '2019_API_8_Hyderabad',\n",
       " '2019_API_1_Chennai',\n",
       " '2017_Granulation_Hyderabad',\n",
       " '2016_Bulk_Chennai',\n",
       " '2019_API_1_Kerala',\n",
       " '2017_API_1_Hyderabad']"
      ]
     },
     "execution_count": 11,
     "metadata": {},
     "output_type": "execute_result"
    }
   ],
   "source": [
    "y = list(set(pd.DatetimeIndex(df1['Start Date']).year))\n",
    "stry = list(map(str, y))\n",
    "combo1 = [(i+\"_\"+j) \n",
    "          for i in stry\n",
    "          for j in df1[\"Process Step\"]]\n",
    "combo1 = list(set(combo1))\n",
    "combo11 = [(k+\"_\"+l) \n",
    "          for k in combo1\n",
    "          for l in df1[\"Site\"]]\n",
    "combo11 = list(set(combo11))\n",
    "combo11"
   ]
  },
  {
   "cell_type": "code",
   "execution_count": 12,
   "id": "916a7f77",
   "metadata": {},
   "outputs": [
    {
     "data": {
      "text/plain": [
       "array(['Chenni', 'Hyderabad'], dtype=object)"
      ]
     },
     "execution_count": 12,
     "metadata": {},
     "output_type": "execute_result"
    }
   ],
   "source": [
    "df2['Site'].unique()"
   ]
  },
  {
   "cell_type": "code",
   "execution_count": 13,
   "id": "dd18fb79",
   "metadata": {},
   "outputs": [],
   "source": [
    "df2['Site'] = df2['Site'].replace(['Chenni'],'Chennai')"
   ]
  },
  {
   "cell_type": "code",
   "execution_count": 14,
   "id": "f7990768",
   "metadata": {},
   "outputs": [
    {
     "data": {
      "text/plain": [
       "array(['Chennai', 'Hyderabad'], dtype=object)"
      ]
     },
     "execution_count": 14,
     "metadata": {},
     "output_type": "execute_result"
    }
   ],
   "source": [
    "df2['Site'].unique()"
   ]
  },
  {
   "cell_type": "code",
   "execution_count": 15,
   "id": "f7e1e9f9",
   "metadata": {},
   "outputs": [
    {
     "data": {
      "text/plain": [
       "[2016, 2017, 2018, 2019]"
      ]
     },
     "execution_count": 15,
     "metadata": {},
     "output_type": "execute_result"
    }
   ],
   "source": [
    "list(set(pd.DatetimeIndex(df2['Start Date']).year))"
   ]
  },
  {
   "cell_type": "code",
   "execution_count": 16,
   "id": "82ae93be",
   "metadata": {},
   "outputs": [
    {
     "data": {
      "text/plain": [
       "array(['Granulation', 'Bulk', 'API_1', 'FG', 'API_4', 'API_5', 'API_2',\n",
       "       'API_3', 'API_8', 'API_6'], dtype=object)"
      ]
     },
     "execution_count": 16,
     "metadata": {},
     "output_type": "execute_result"
    }
   ],
   "source": [
    "df2['Process Step'].unique()"
   ]
  },
  {
   "cell_type": "code",
   "execution_count": 17,
   "id": "0b69aca6",
   "metadata": {},
   "outputs": [
    {
     "data": {
      "text/plain": [
       "['2017_API_3_Hyderabad',\n",
       " '2017_API_5_Hyderabad',\n",
       " '2018_API_1_Chennai',\n",
       " '2019_API_4_Hyderabad',\n",
       " '2017_Bulk_Chennai',\n",
       " '2016_Bulk_Hyderabad',\n",
       " '2016_API_5_Chennai',\n",
       " '2016_API_6_Hyderabad',\n",
       " '2019_Bulk_Chennai',\n",
       " '2019_Granulation_Chennai',\n",
       " '2019_API_3_Hyderabad',\n",
       " '2018_FG_Hyderabad',\n",
       " '2018_FG_Chennai',\n",
       " '2019_API_2_Hyderabad',\n",
       " '2019_API_6_Chennai',\n",
       " '2018_API_6_Chennai',\n",
       " '2019_API_8_Chennai',\n",
       " '2018_API_5_Chennai',\n",
       " '2017_API_3_Chennai',\n",
       " '2019_Granulation_Hyderabad',\n",
       " '2017_Granulation_Hyderabad',\n",
       " '2018_API_2_Chennai',\n",
       " '2017_API_1_Hyderabad',\n",
       " '2019_API_5_Hyderabad',\n",
       " '2017_API_2_Hyderabad',\n",
       " '2017_FG_Chennai',\n",
       " '2018_API_4_Hyderabad',\n",
       " '2018_Bulk_Chennai',\n",
       " '2017_FG_Hyderabad',\n",
       " '2019_FG_Hyderabad',\n",
       " '2019_API_3_Chennai',\n",
       " '2019_API_6_Hyderabad',\n",
       " '2018_Bulk_Hyderabad',\n",
       " '2016_API_2_Chennai',\n",
       " '2016_API_8_Chennai',\n",
       " '2016_FG_Chennai',\n",
       " '2017_API_2_Chennai',\n",
       " '2017_API_8_Chennai',\n",
       " '2017_API_4_Hyderabad',\n",
       " '2016_API_4_Chennai',\n",
       " '2019_FG_Chennai',\n",
       " '2017_API_6_Chennai',\n",
       " '2018_API_3_Chennai',\n",
       " '2018_API_5_Hyderabad',\n",
       " '2016_Granulation_Chennai',\n",
       " '2016_Bulk_Chennai',\n",
       " '2017_API_6_Hyderabad',\n",
       " '2018_API_4_Chennai',\n",
       " '2017_API_5_Chennai',\n",
       " '2016_Granulation_Hyderabad',\n",
       " '2017_Bulk_Hyderabad',\n",
       " '2018_API_1_Hyderabad',\n",
       " '2018_API_2_Hyderabad',\n",
       " '2018_Granulation_Hyderabad',\n",
       " '2016_FG_Hyderabad',\n",
       " '2016_API_3_Hyderabad',\n",
       " '2018_Granulation_Chennai',\n",
       " '2019_API_5_Chennai',\n",
       " '2016_API_3_Chennai',\n",
       " '2018_API_6_Hyderabad',\n",
       " '2019_Bulk_Hyderabad',\n",
       " '2018_API_3_Hyderabad',\n",
       " '2017_Granulation_Chennai',\n",
       " '2016_API_1_Chennai',\n",
       " '2019_API_1_Chennai',\n",
       " '2016_API_6_Chennai',\n",
       " '2018_API_8_Hyderabad',\n",
       " '2016_API_5_Hyderabad',\n",
       " '2016_API_8_Hyderabad',\n",
       " '2017_API_8_Hyderabad',\n",
       " '2016_API_4_Hyderabad',\n",
       " '2018_API_8_Chennai',\n",
       " '2016_API_1_Hyderabad',\n",
       " '2019_API_1_Hyderabad',\n",
       " '2017_API_1_Chennai',\n",
       " '2019_API_2_Chennai',\n",
       " '2019_API_4_Chennai',\n",
       " '2016_API_2_Hyderabad',\n",
       " '2019_API_8_Hyderabad',\n",
       " '2017_API_4_Chennai']"
      ]
     },
     "execution_count": 17,
     "metadata": {},
     "output_type": "execute_result"
    }
   ],
   "source": [
    "z = list(set(pd.DatetimeIndex(df2['Start Date']).year))\n",
    "strz = list(map(str, z))\n",
    "combo2 = [(i+\"_\"+j) \n",
    "          for i in strz\n",
    "          for j in df2[\"Process Step\"]]\n",
    "combo2 = list(set(combo2))\n",
    "combo21 = [(k+\"_\"+l) \n",
    "          for k in combo2\n",
    "          for l in df2[\"Site\"]]\n",
    "combo21 = list(set(combo21))\n",
    "combo21"
   ]
  },
  {
   "cell_type": "code",
   "execution_count": 18,
   "id": "b5111c2c",
   "metadata": {},
   "outputs": [],
   "source": [
    "df11 = pd.DataFrame(combo11, columns =['GRQR'])"
   ]
  },
  {
   "cell_type": "code",
   "execution_count": 19,
   "id": "d7f83cdf",
   "metadata": {},
   "outputs": [],
   "source": [
    "df21 = pd.DataFrame(combo21, columns =['PO-QR'])"
   ]
  },
  {
   "cell_type": "code",
   "execution_count": 20,
   "id": "bff621f1",
   "metadata": {},
   "outputs": [],
   "source": [
    "combo_agg = list(set(combo11+combo21))"
   ]
  },
  {
   "cell_type": "code",
   "execution_count": 21,
   "id": "058f1868",
   "metadata": {},
   "outputs": [],
   "source": [
    "combo_final = pd.DataFrame(combo_agg, columns=['Aggregate'])"
   ]
  },
  {
   "cell_type": "code",
   "execution_count": 22,
   "id": "0cc73445",
   "metadata": {},
   "outputs": [],
   "source": [
    "dfagg= pd.DataFrame(combo_final, columns = ['Aggregate'])"
   ]
  },
  {
   "cell_type": "markdown",
   "id": "b66d1dfe",
   "metadata": {},
   "source": [
    "#### Creating the final dataframe by concat of all three dataframes & writing it to csv"
   ]
  },
  {
   "cell_type": "code",
   "execution_count": 23,
   "id": "43b67ba5",
   "metadata": {},
   "outputs": [],
   "source": [
    "df_final = pd.concat([df11,df21, dfagg], ignore_index=True, axis=1)\n",
    "df_final.columns=[\"GRQR\", \"PO-QR\", \"Aggregate\"]"
   ]
  },
  {
   "cell_type": "code",
   "execution_count": 24,
   "id": "65fad70f",
   "metadata": {},
   "outputs": [
    {
     "data": {
      "text/html": [
       "<div>\n",
       "<style scoped>\n",
       "    .dataframe tbody tr th:only-of-type {\n",
       "        vertical-align: middle;\n",
       "    }\n",
       "\n",
       "    .dataframe tbody tr th {\n",
       "        vertical-align: top;\n",
       "    }\n",
       "\n",
       "    .dataframe thead th {\n",
       "        text-align: right;\n",
       "    }\n",
       "</style>\n",
       "<table border=\"1\" class=\"dataframe\">\n",
       "  <thead>\n",
       "    <tr style=\"text-align: right;\">\n",
       "      <th></th>\n",
       "      <th>GRQR</th>\n",
       "      <th>PO-QR</th>\n",
       "      <th>Aggregate</th>\n",
       "    </tr>\n",
       "  </thead>\n",
       "  <tbody>\n",
       "    <tr>\n",
       "      <th>0</th>\n",
       "      <td>2018_Bulk_Kerala</td>\n",
       "      <td>2017_API_3_Hyderabad</td>\n",
       "      <td>2017_API_3_Hyderabad</td>\n",
       "    </tr>\n",
       "    <tr>\n",
       "      <th>1</th>\n",
       "      <td>2018_API_8_Hyderabad</td>\n",
       "      <td>2017_API_5_Hyderabad</td>\n",
       "      <td>2017_API_5_Hyderabad</td>\n",
       "    </tr>\n",
       "    <tr>\n",
       "      <th>2</th>\n",
       "      <td>2017_API_3_Hyderabad</td>\n",
       "      <td>2018_API_1_Chennai</td>\n",
       "      <td>2016_API_8_Kerala</td>\n",
       "    </tr>\n",
       "    <tr>\n",
       "      <th>3</th>\n",
       "      <td>2018_Bulk_Chennai</td>\n",
       "      <td>2019_API_4_Hyderabad</td>\n",
       "      <td>2018_API_1_Chennai</td>\n",
       "    </tr>\n",
       "    <tr>\n",
       "      <th>4</th>\n",
       "      <td>2018_API_8_Kerala</td>\n",
       "      <td>2017_Bulk_Chennai</td>\n",
       "      <td>2017_Bulk_Chennai</td>\n",
       "    </tr>\n",
       "    <tr>\n",
       "      <th>...</th>\n",
       "      <td>...</td>\n",
       "      <td>...</td>\n",
       "      <td>...</td>\n",
       "    </tr>\n",
       "    <tr>\n",
       "      <th>95</th>\n",
       "      <td>NaN</td>\n",
       "      <td>NaN</td>\n",
       "      <td>2019_API_4_Chennai</td>\n",
       "    </tr>\n",
       "    <tr>\n",
       "      <th>96</th>\n",
       "      <td>NaN</td>\n",
       "      <td>NaN</td>\n",
       "      <td>2019_Bulk_Kerala</td>\n",
       "    </tr>\n",
       "    <tr>\n",
       "      <th>97</th>\n",
       "      <td>NaN</td>\n",
       "      <td>NaN</td>\n",
       "      <td>2019_API_8_Hyderabad</td>\n",
       "    </tr>\n",
       "    <tr>\n",
       "      <th>98</th>\n",
       "      <td>NaN</td>\n",
       "      <td>NaN</td>\n",
       "      <td>2016_API_2_Hyderabad</td>\n",
       "    </tr>\n",
       "    <tr>\n",
       "      <th>99</th>\n",
       "      <td>NaN</td>\n",
       "      <td>NaN</td>\n",
       "      <td>2017_API_4_Chennai</td>\n",
       "    </tr>\n",
       "  </tbody>\n",
       "</table>\n",
       "<p>100 rows × 3 columns</p>\n",
       "</div>"
      ],
      "text/plain": [
       "                    GRQR                 PO-QR             Aggregate\n",
       "0       2018_Bulk_Kerala  2017_API_3_Hyderabad  2017_API_3_Hyderabad\n",
       "1   2018_API_8_Hyderabad  2017_API_5_Hyderabad  2017_API_5_Hyderabad\n",
       "2   2017_API_3_Hyderabad    2018_API_1_Chennai     2016_API_8_Kerala\n",
       "3      2018_Bulk_Chennai  2019_API_4_Hyderabad    2018_API_1_Chennai\n",
       "4      2018_API_8_Kerala     2017_Bulk_Chennai     2017_Bulk_Chennai\n",
       "..                   ...                   ...                   ...\n",
       "95                   NaN                   NaN    2019_API_4_Chennai\n",
       "96                   NaN                   NaN      2019_Bulk_Kerala\n",
       "97                   NaN                   NaN  2019_API_8_Hyderabad\n",
       "98                   NaN                   NaN  2016_API_2_Hyderabad\n",
       "99                   NaN                   NaN    2017_API_4_Chennai\n",
       "\n",
       "[100 rows x 3 columns]"
      ]
     },
     "execution_count": 24,
     "metadata": {},
     "output_type": "execute_result"
    }
   ],
   "source": [
    "df_final"
   ]
  },
  {
   "cell_type": "code",
   "execution_count": 25,
   "id": "a6aac6f0",
   "metadata": {},
   "outputs": [],
   "source": [
    "df_final.to_csv('file1.csv', index = False)"
   ]
  },
  {
   "cell_type": "markdown",
   "id": "d1f3a072",
   "metadata": {},
   "source": [
    "## Task 2"
   ]
  },
  {
   "cell_type": "markdown",
   "id": "33df7463",
   "metadata": {},
   "source": [
    "#### Creating \"Lead time\" column in both the dataframes & visualizing the values"
   ]
  },
  {
   "cell_type": "code",
   "execution_count": 26,
   "id": "37c31341",
   "metadata": {},
   "outputs": [],
   "source": [
    "df1['LT'] = (df1['End Date'] - df1['Start Date']).dt.days\n",
    "df2['LT'] = (df2['End Date'] - df2['Start Date']).dt.days"
   ]
  },
  {
   "cell_type": "code",
   "execution_count": 175,
   "id": "65d92514",
   "metadata": {},
   "outputs": [
    {
     "data": {
      "text/plain": [
       "116.88155770156088"
      ]
     },
     "execution_count": 175,
     "metadata": {},
     "output_type": "execute_result"
    }
   ],
   "source": [
    "st.stdev(df1['LT'])"
   ]
  },
  {
   "cell_type": "code",
   "execution_count": 150,
   "id": "383c333d",
   "metadata": {},
   "outputs": [
    {
     "data": {
      "text/plain": [
       "1.5973899334243655"
      ]
     },
     "execution_count": 150,
     "metadata": {},
     "output_type": "execute_result"
    }
   ],
   "source": [
    "(st.stdev(df1['LT']))/(df1['LT'].mean())"
   ]
  },
  {
   "cell_type": "code",
   "execution_count": 173,
   "id": "44b9bf15",
   "metadata": {},
   "outputs": [
    {
     "data": {
      "text/plain": [
       "73.17033571821685"
      ]
     },
     "execution_count": 173,
     "metadata": {},
     "output_type": "execute_result"
    }
   ],
   "source": [
    "(df1['LT'].mean())"
   ]
  },
  {
   "cell_type": "code",
   "execution_count": 174,
   "id": "95c2f378",
   "metadata": {},
   "outputs": [
    {
     "data": {
      "text/plain": [
       "4.216559691912709"
      ]
     },
     "execution_count": 174,
     "metadata": {},
     "output_type": "execute_result"
    }
   ],
   "source": [
    "df2['LT'].mean()"
   ]
  },
  {
   "cell_type": "code",
   "execution_count": 169,
   "id": "ecca5a71",
   "metadata": {},
   "outputs": [
    {
     "data": {
      "text/plain": [
       "1.4089019542455552"
      ]
     },
     "execution_count": 169,
     "metadata": {},
     "output_type": "execute_result"
    }
   ],
   "source": [
    "(st.stdev(df2['LT'][df2['LT'] > 0]))/((df2['LT'][df2['LT']>0]).mean())"
   ]
  },
  {
   "cell_type": "code",
   "execution_count": 177,
   "id": "0d395349",
   "metadata": {},
   "outputs": [
    {
     "data": {
      "text/plain": [
       "12.127411554272472"
      ]
     },
     "execution_count": 177,
     "metadata": {},
     "output_type": "execute_result"
    }
   ],
   "source": [
    "st.stdev(df2['LT'][df2['LT'] > 0])"
   ]
  },
  {
   "cell_type": "code",
   "execution_count": 176,
   "id": "7841c950",
   "metadata": {},
   "outputs": [
    {
     "data": {
      "text/plain": [
       "8.607704402515724"
      ]
     },
     "execution_count": 176,
     "metadata": {},
     "output_type": "execute_result"
    }
   ],
   "source": [
    "(df2['LT'][df2['LT']>0]).mean()"
   ]
  },
  {
   "cell_type": "code",
   "execution_count": 164,
   "id": "5af421cb",
   "metadata": {},
   "outputs": [
    {
     "data": {
      "text/plain": [
       "nan"
      ]
     },
     "execution_count": 164,
     "metadata": {},
     "output_type": "execute_result"
    }
   ],
   "source": [
    "st.stdev(df2['LT'])"
   ]
  },
  {
   "cell_type": "code",
   "execution_count": 161,
   "id": "ffdf4661",
   "metadata": {},
   "outputs": [
    {
     "data": {
      "text/plain": [
       "8.607704402515724"
      ]
     },
     "execution_count": 161,
     "metadata": {},
     "output_type": "execute_result"
    }
   ],
   "source": [
    "(df2['LT'][df2['LT']>0]).mean()"
   ]
  },
  {
   "cell_type": "code",
   "execution_count": 27,
   "id": "bd54547b",
   "metadata": {},
   "outputs": [],
   "source": [
    "import seaborn as sns"
   ]
  },
  {
   "cell_type": "code",
   "execution_count": 179,
   "id": "ea64b45a",
   "metadata": {},
   "outputs": [
    {
     "data": {
      "text/plain": [
       "<AxesSubplot:xlabel='LT'>"
      ]
     },
     "execution_count": 179,
     "metadata": {},
     "output_type": "execute_result"
    },
    {
     "data": {
      "image/png": "[encoded data removed]",
      "text/plain": [
       "<Figure size 432x288 with 1 Axes>"
      ]
     },
     "metadata": {},
     "output_type": "display_data"
    }
   ],
   "source": [
    "sns.set_style(\"whitegrid\")\n",
    "sns.boxplot(x = 'LT', data = df1)"
   ]
  },
  {
   "cell_type": "code",
   "execution_count": 29,
   "id": "1a56bdaf",
   "metadata": {},
   "outputs": [
    {
     "data": {
      "text/plain": [
       "<AxesSubplot:xlabel='LT'>"
      ]
     },
     "execution_count": 29,
     "metadata": {},
     "output_type": "execute_result"
    },
    {
     "data": {
      "image/png": "[encoded data removed]",
      "text/plain": [
       "<Figure size 432x288 with 1 Axes>"
      ]
     },
     "metadata": {},
     "output_type": "display_data"
    }
   ],
   "source": [
    "sns.boxplot(x = 'LT', data = df2)"
   ]
  },
  {
   "cell_type": "code",
   "execution_count": 30,
   "id": "a7f2d964",
   "metadata": {},
   "outputs": [],
   "source": [
    "df3 = pd.DataFrame(df1['LT'].append(df2['LT'], ignore_index = True))"
   ]
  },
  {
   "cell_type": "code",
   "execution_count": 31,
   "id": "14a50e1f",
   "metadata": {},
   "outputs": [
    {
     "data": {
      "text/plain": [
       "<AxesSubplot:xlabel='LT'>"
      ]
     },
     "execution_count": 31,
     "metadata": {},
     "output_type": "execute_result"
    },
    {
     "data": {
      "image/png": "[encoded data removed]",
      "text/plain": [
       "<Figure size 432x288 with 1 Axes>"
      ]
     },
     "metadata": {},
     "output_type": "display_data"
    }
   ],
   "source": [
    "sns.boxplot(x = 'LT', data = df3)"
   ]
  },
  {
   "cell_type": "code",
   "execution_count": 32,
   "id": "2b81f6b9",
   "metadata": {},
   "outputs": [
    {
     "data": {
      "text/html": [
       "<div>\n",
       "<style scoped>\n",
       "    .dataframe tbody tr th:only-of-type {\n",
       "        vertical-align: middle;\n",
       "    }\n",
       "\n",
       "    .dataframe tbody tr th {\n",
       "        vertical-align: top;\n",
       "    }\n",
       "\n",
       "    .dataframe thead th {\n",
       "        text-align: right;\n",
       "    }\n",
       "</style>\n",
       "<table border=\"1\" class=\"dataframe\">\n",
       "  <thead>\n",
       "    <tr style=\"text-align: right;\">\n",
       "      <th></th>\n",
       "      <th>LT</th>\n",
       "    </tr>\n",
       "  </thead>\n",
       "  <tbody>\n",
       "    <tr>\n",
       "      <th>0</th>\n",
       "      <td>14.0</td>\n",
       "    </tr>\n",
       "    <tr>\n",
       "      <th>1</th>\n",
       "      <td>126.0</td>\n",
       "    </tr>\n",
       "    <tr>\n",
       "      <th>2</th>\n",
       "      <td>4.0</td>\n",
       "    </tr>\n",
       "    <tr>\n",
       "      <th>3</th>\n",
       "      <td>27.0</td>\n",
       "    </tr>\n",
       "    <tr>\n",
       "      <th>4</th>\n",
       "      <td>569.0</td>\n",
       "    </tr>\n",
       "    <tr>\n",
       "      <th>...</th>\n",
       "      <td>...</td>\n",
       "    </tr>\n",
       "    <tr>\n",
       "      <th>11512</th>\n",
       "      <td>-1.0</td>\n",
       "    </tr>\n",
       "    <tr>\n",
       "      <th>11513</th>\n",
       "      <td>-3.0</td>\n",
       "    </tr>\n",
       "    <tr>\n",
       "      <th>11514</th>\n",
       "      <td>-1.0</td>\n",
       "    </tr>\n",
       "    <tr>\n",
       "      <th>11515</th>\n",
       "      <td>-2.0</td>\n",
       "    </tr>\n",
       "    <tr>\n",
       "      <th>11516</th>\n",
       "      <td>0.0</td>\n",
       "    </tr>\n",
       "  </tbody>\n",
       "</table>\n",
       "<p>11517 rows × 1 columns</p>\n",
       "</div>"
      ],
      "text/plain": [
       "          LT\n",
       "0       14.0\n",
       "1      126.0\n",
       "2        4.0\n",
       "3       27.0\n",
       "4      569.0\n",
       "...      ...\n",
       "11512   -1.0\n",
       "11513   -3.0\n",
       "11514   -1.0\n",
       "11515   -2.0\n",
       "11516    0.0\n",
       "\n",
       "[11517 rows x 1 columns]"
      ]
     },
     "execution_count": 32,
     "metadata": {},
     "output_type": "execute_result"
    }
   ],
   "source": [
    "df3"
   ]
  },
  {
   "cell_type": "code",
   "execution_count": 33,
   "id": "7a99ff09",
   "metadata": {},
   "outputs": [
    {
     "data": {
      "text/plain": [
       "<AxesSubplot:xlabel='LT'>"
      ]
     },
     "execution_count": 33,
     "metadata": {},
     "output_type": "execute_result"
    },
    {
     "data": {
      "image/png": "[encoded data removed]",
      "text/plain": [
       "<Figure size 432x288 with 1 Axes>"
      ]
     },
     "metadata": {},
     "output_type": "display_data"
    }
   ],
   "source": [
    "sns.boxplot(x = 'LT', data = df3)"
   ]
  },
  {
   "cell_type": "code",
   "execution_count": 34,
   "id": "13ef28c8",
   "metadata": {},
   "outputs": [
    {
     "data": {
      "text/plain": [
       "count    3634.000000\n",
       "mean       73.170336\n",
       "std       116.881558\n",
       "min      -334.000000\n",
       "25%        20.000000\n",
       "50%        39.000000\n",
       "75%        64.000000\n",
       "max      1058.000000\n",
       "Name: LT, dtype: float64"
      ]
     },
     "execution_count": 34,
     "metadata": {},
     "output_type": "execute_result"
    }
   ],
   "source": [
    "df1['LT'].describe()"
   ]
  },
  {
   "cell_type": "code",
   "execution_count": 35,
   "id": "b1ef22cc",
   "metadata": {},
   "outputs": [
    {
     "data": {
      "text/plain": [
       "count    7790.000000\n",
       "mean        3.490629\n",
       "std        10.056030\n",
       "min       -27.000000\n",
       "25%         0.000000\n",
       "50%         0.000000\n",
       "75%         5.000000\n",
       "max       165.000000\n",
       "Name: LT, dtype: float64"
      ]
     },
     "execution_count": 35,
     "metadata": {},
     "output_type": "execute_result"
    }
   ],
   "source": [
    "df2['LT'].describe()"
   ]
  },
  {
   "cell_type": "code",
   "execution_count": 36,
   "id": "2537af3e",
   "metadata": {},
   "outputs": [
    {
     "data": {
      "text/html": [
       "<div>\n",
       "<style scoped>\n",
       "    .dataframe tbody tr th:only-of-type {\n",
       "        vertical-align: middle;\n",
       "    }\n",
       "\n",
       "    .dataframe tbody tr th {\n",
       "        vertical-align: top;\n",
       "    }\n",
       "\n",
       "    .dataframe thead th {\n",
       "        text-align: right;\n",
       "    }\n",
       "</style>\n",
       "<table border=\"1\" class=\"dataframe\">\n",
       "  <thead>\n",
       "    <tr style=\"text-align: right;\">\n",
       "      <th></th>\n",
       "      <th>LT</th>\n",
       "    </tr>\n",
       "  </thead>\n",
       "  <tbody>\n",
       "    <tr>\n",
       "      <th>0</th>\n",
       "      <td>14.0</td>\n",
       "    </tr>\n",
       "    <tr>\n",
       "      <th>1</th>\n",
       "      <td>126.0</td>\n",
       "    </tr>\n",
       "    <tr>\n",
       "      <th>2</th>\n",
       "      <td>4.0</td>\n",
       "    </tr>\n",
       "    <tr>\n",
       "      <th>3</th>\n",
       "      <td>27.0</td>\n",
       "    </tr>\n",
       "    <tr>\n",
       "      <th>4</th>\n",
       "      <td>569.0</td>\n",
       "    </tr>\n",
       "    <tr>\n",
       "      <th>...</th>\n",
       "      <td>...</td>\n",
       "    </tr>\n",
       "    <tr>\n",
       "      <th>11512</th>\n",
       "      <td>-1.0</td>\n",
       "    </tr>\n",
       "    <tr>\n",
       "      <th>11513</th>\n",
       "      <td>-3.0</td>\n",
       "    </tr>\n",
       "    <tr>\n",
       "      <th>11514</th>\n",
       "      <td>-1.0</td>\n",
       "    </tr>\n",
       "    <tr>\n",
       "      <th>11515</th>\n",
       "      <td>-2.0</td>\n",
       "    </tr>\n",
       "    <tr>\n",
       "      <th>11516</th>\n",
       "      <td>0.0</td>\n",
       "    </tr>\n",
       "  </tbody>\n",
       "</table>\n",
       "<p>11517 rows × 1 columns</p>\n",
       "</div>"
      ],
      "text/plain": [
       "          LT\n",
       "0       14.0\n",
       "1      126.0\n",
       "2        4.0\n",
       "3       27.0\n",
       "4      569.0\n",
       "...      ...\n",
       "11512   -1.0\n",
       "11513   -3.0\n",
       "11514   -1.0\n",
       "11515   -2.0\n",
       "11516    0.0\n",
       "\n",
       "[11517 rows x 1 columns]"
      ]
     },
     "execution_count": 36,
     "metadata": {},
     "output_type": "execute_result"
    }
   ],
   "source": [
    "df3"
   ]
  },
  {
   "cell_type": "code",
   "execution_count": 37,
   "id": "c1783f37",
   "metadata": {},
   "outputs": [
    {
     "data": {
      "text/plain": [
       "0"
      ]
     },
     "execution_count": 37,
     "metadata": {},
     "output_type": "execute_result"
    }
   ],
   "source": [
    "df1['LT'].isnull().sum()"
   ]
  },
  {
   "cell_type": "code",
   "execution_count": 38,
   "id": "d13a0d0b",
   "metadata": {},
   "outputs": [
    {
     "data": {
      "text/plain": [
       "93"
      ]
     },
     "execution_count": 38,
     "metadata": {},
     "output_type": "execute_result"
    }
   ],
   "source": [
    "df2['LT'].isnull().sum()"
   ]
  },
  {
   "cell_type": "code",
   "execution_count": 39,
   "id": "2a3b4a61",
   "metadata": {},
   "outputs": [
    {
     "data": {
      "text/plain": [
       "LT    93\n",
       "dtype: int64"
      ]
     },
     "execution_count": 39,
     "metadata": {},
     "output_type": "execute_result"
    }
   ],
   "source": [
    "df3.isnull().sum()"
   ]
  },
  {
   "cell_type": "code",
   "execution_count": 40,
   "id": "b0f07278",
   "metadata": {},
   "outputs": [
    {
     "data": {
      "text/html": [
       "<div>\n",
       "<style scoped>\n",
       "    .dataframe tbody tr th:only-of-type {\n",
       "        vertical-align: middle;\n",
       "    }\n",
       "\n",
       "    .dataframe tbody tr th {\n",
       "        vertical-align: top;\n",
       "    }\n",
       "\n",
       "    .dataframe thead th {\n",
       "        text-align: right;\n",
       "    }\n",
       "</style>\n",
       "<table border=\"1\" class=\"dataframe\">\n",
       "  <thead>\n",
       "    <tr style=\"text-align: right;\">\n",
       "      <th></th>\n",
       "      <th>LT</th>\n",
       "    </tr>\n",
       "  </thead>\n",
       "  <tbody>\n",
       "    <tr>\n",
       "      <th>0</th>\n",
       "      <td>14.0</td>\n",
       "    </tr>\n",
       "    <tr>\n",
       "      <th>1</th>\n",
       "      <td>126.0</td>\n",
       "    </tr>\n",
       "    <tr>\n",
       "      <th>2</th>\n",
       "      <td>4.0</td>\n",
       "    </tr>\n",
       "    <tr>\n",
       "      <th>3</th>\n",
       "      <td>27.0</td>\n",
       "    </tr>\n",
       "    <tr>\n",
       "      <th>4</th>\n",
       "      <td>569.0</td>\n",
       "    </tr>\n",
       "    <tr>\n",
       "      <th>...</th>\n",
       "      <td>...</td>\n",
       "    </tr>\n",
       "    <tr>\n",
       "      <th>11512</th>\n",
       "      <td>-1.0</td>\n",
       "    </tr>\n",
       "    <tr>\n",
       "      <th>11513</th>\n",
       "      <td>-3.0</td>\n",
       "    </tr>\n",
       "    <tr>\n",
       "      <th>11514</th>\n",
       "      <td>-1.0</td>\n",
       "    </tr>\n",
       "    <tr>\n",
       "      <th>11515</th>\n",
       "      <td>-2.0</td>\n",
       "    </tr>\n",
       "    <tr>\n",
       "      <th>11516</th>\n",
       "      <td>0.0</td>\n",
       "    </tr>\n",
       "  </tbody>\n",
       "</table>\n",
       "<p>11424 rows × 1 columns</p>\n",
       "</div>"
      ],
      "text/plain": [
       "          LT\n",
       "0       14.0\n",
       "1      126.0\n",
       "2        4.0\n",
       "3       27.0\n",
       "4      569.0\n",
       "...      ...\n",
       "11512   -1.0\n",
       "11513   -3.0\n",
       "11514   -1.0\n",
       "11515   -2.0\n",
       "11516    0.0\n",
       "\n",
       "[11424 rows x 1 columns]"
      ]
     },
     "execution_count": 40,
     "metadata": {},
     "output_type": "execute_result"
    }
   ],
   "source": [
    "df3.dropna()"
   ]
  },
  {
   "cell_type": "code",
   "execution_count": 41,
   "id": "c2c6f0a0",
   "metadata": {},
   "outputs": [
    {
     "data": {
      "text/html": [
       "<div>\n",
       "<style scoped>\n",
       "    .dataframe tbody tr th:only-of-type {\n",
       "        vertical-align: middle;\n",
       "    }\n",
       "\n",
       "    .dataframe tbody tr th {\n",
       "        vertical-align: top;\n",
       "    }\n",
       "\n",
       "    .dataframe thead th {\n",
       "        text-align: right;\n",
       "    }\n",
       "</style>\n",
       "<table border=\"1\" class=\"dataframe\">\n",
       "  <thead>\n",
       "    <tr style=\"text-align: right;\">\n",
       "      <th></th>\n",
       "      <th>LT</th>\n",
       "    </tr>\n",
       "  </thead>\n",
       "  <tbody>\n",
       "    <tr>\n",
       "      <th>count</th>\n",
       "      <td>11424.000000</td>\n",
       "    </tr>\n",
       "    <tr>\n",
       "      <th>mean</th>\n",
       "      <td>25.655900</td>\n",
       "    </tr>\n",
       "    <tr>\n",
       "      <th>std</th>\n",
       "      <td>73.939772</td>\n",
       "    </tr>\n",
       "    <tr>\n",
       "      <th>min</th>\n",
       "      <td>-334.000000</td>\n",
       "    </tr>\n",
       "    <tr>\n",
       "      <th>25%</th>\n",
       "      <td>0.000000</td>\n",
       "    </tr>\n",
       "    <tr>\n",
       "      <th>50%</th>\n",
       "      <td>5.000000</td>\n",
       "    </tr>\n",
       "    <tr>\n",
       "      <th>75%</th>\n",
       "      <td>22.000000</td>\n",
       "    </tr>\n",
       "    <tr>\n",
       "      <th>max</th>\n",
       "      <td>1058.000000</td>\n",
       "    </tr>\n",
       "  </tbody>\n",
       "</table>\n",
       "</div>"
      ],
      "text/plain": [
       "                 LT\n",
       "count  11424.000000\n",
       "mean      25.655900\n",
       "std       73.939772\n",
       "min     -334.000000\n",
       "25%        0.000000\n",
       "50%        5.000000\n",
       "75%       22.000000\n",
       "max     1058.000000"
      ]
     },
     "execution_count": 41,
     "metadata": {},
     "output_type": "execute_result"
    }
   ],
   "source": [
    "df3.describe()"
   ]
  },
  {
   "cell_type": "code",
   "execution_count": 42,
   "id": "613e6783",
   "metadata": {},
   "outputs": [
    {
     "data": {
      "text/plain": [
       "<AxesSubplot:xlabel='LT', ylabel='Count'>"
      ]
     },
     "execution_count": 42,
     "metadata": {},
     "output_type": "execute_result"
    },
    {
     "data": {
      "image/png": "[encoded data removed]",
      "text/plain": [
       "<Figure size 432x288 with 1 Axes>"
      ]
     },
     "metadata": {},
     "output_type": "display_data"
    }
   ],
   "source": [
    "sns.histplot(data = df1['LT'])"
   ]
  },
  {
   "cell_type": "code",
   "execution_count": 43,
   "id": "2f9883cc",
   "metadata": {},
   "outputs": [
    {
     "data": {
      "text/plain": [
       "<AxesSubplot:xlabel='LT', ylabel='Count'>"
      ]
     },
     "execution_count": 43,
     "metadata": {},
     "output_type": "execute_result"
    },
    {
     "data": {
      "image/png": "[encoded data removed]",
      "text/plain": [
       "<Figure size 432x288 with 1 Axes>"
      ]
     },
     "metadata": {},
     "output_type": "display_data"
    }
   ],
   "source": [
    "sns.histplot(data = df2['LT'])"
   ]
  },
  {
   "cell_type": "code",
   "execution_count": 44,
   "id": "d5e563e5",
   "metadata": {},
   "outputs": [
    {
     "data": {
      "text/plain": [
       "<AxesSubplot:xlabel='LT', ylabel='Count'>"
      ]
     },
     "execution_count": 44,
     "metadata": {},
     "output_type": "execute_result"
    },
    {
     "data": {
      "image/png": "[encoded data removed]",
      "text/plain": [
       "<Figure size 432x288 with 1 Axes>"
      ]
     },
     "metadata": {},
     "output_type": "display_data"
    }
   ],
   "source": [
    "sns.histplot(data = df3['LT'])"
   ]
  },
  {
   "cell_type": "markdown",
   "id": "ae3dd5aa",
   "metadata": {},
   "source": [
    "#### 3B Lead time with negative values"
   ]
  },
  {
   "cell_type": "code",
   "execution_count": 45,
   "id": "3d5ead28",
   "metadata": {},
   "outputs": [],
   "source": [
    "import numpy as np"
   ]
  },
  {
   "cell_type": "code",
   "execution_count": 46,
   "id": "51328bc5",
   "metadata": {},
   "outputs": [
    {
     "data": {
      "text/plain": [
       "3"
      ]
     },
     "execution_count": 46,
     "metadata": {},
     "output_type": "execute_result"
    }
   ],
   "source": [
    "np.sum(df1['LT'] < 0)"
   ]
  },
  {
   "cell_type": "code",
   "execution_count": 47,
   "id": "fc4a9708",
   "metadata": {},
   "outputs": [
    {
     "data": {
      "text/plain": [
       "1720"
      ]
     },
     "execution_count": 47,
     "metadata": {},
     "output_type": "execute_result"
    }
   ],
   "source": [
    "np.sum(df2['LT'] < 0)"
   ]
  },
  {
   "cell_type": "markdown",
   "id": "5ba5a507",
   "metadata": {},
   "source": [
    "#### 3C Creating unique identifiers to detect duplicates"
   ]
  },
  {
   "cell_type": "code",
   "execution_count": 48,
   "id": "1d5a63e9",
   "metadata": {},
   "outputs": [],
   "source": [
    "df1['Uni_Iden'] = df1.GR_PO_NUM.astype(str) + df1.BTCH_NUM.astype(str)"
   ]
  },
  {
   "cell_type": "code",
   "execution_count": 49,
   "id": "a02d1de9",
   "metadata": {},
   "outputs": [],
   "source": [
    "df2['Uni_Iden'] = df2.ORDER_NUM.astype(str) + df2.MFG_BTCH_NUM.astype(str)"
   ]
  },
  {
   "cell_type": "code",
   "execution_count": 50,
   "id": "b9a133d9",
   "metadata": {},
   "outputs": [
    {
     "data": {
      "text/plain": [
       "372"
      ]
     },
     "execution_count": 50,
     "metadata": {},
     "output_type": "execute_result"
    }
   ],
   "source": [
    "df1.Uni_Iden.duplicated().sum()"
   ]
  },
  {
   "cell_type": "code",
   "execution_count": 51,
   "id": "a477988a",
   "metadata": {},
   "outputs": [
    {
     "data": {
      "text/plain": [
       "0"
      ]
     },
     "execution_count": 51,
     "metadata": {},
     "output_type": "execute_result"
    }
   ],
   "source": [
    "df2.Uni_Iden.duplicated().sum()"
   ]
  },
  {
   "cell_type": "code",
   "execution_count": 52,
   "id": "4a094067",
   "metadata": {},
   "outputs": [
    {
     "data": {
      "text/plain": [
       "3259"
      ]
     },
     "execution_count": 52,
     "metadata": {},
     "output_type": "execute_result"
    }
   ],
   "source": [
    "len(df1) - df1.Uni_Iden.duplicated().sum() - np.sum(df1['LT'] < 0) - df1['LT'].isnull().sum()"
   ]
  },
  {
   "cell_type": "code",
   "execution_count": 53,
   "id": "48849215",
   "metadata": {},
   "outputs": [
    {
     "data": {
      "text/plain": [
       "6070"
      ]
     },
     "execution_count": 53,
     "metadata": {},
     "output_type": "execute_result"
    }
   ],
   "source": [
    "len(df2) - df2.Uni_Iden.duplicated().sum() - np.sum(df2['LT'] < 0) - df2['LT'].isnull().sum()"
   ]
  },
  {
   "cell_type": "code",
   "execution_count": 54,
   "id": "2603a8ec",
   "metadata": {},
   "outputs": [],
   "source": [
    "df10 = df1[~((df1['LT'] <0) | (df1['LT'].isnull()) | (df1.Uni_Iden.duplicated()))]"
   ]
  },
  {
   "cell_type": "code",
   "execution_count": 55,
   "id": "06fee9f9",
   "metadata": {},
   "outputs": [],
   "source": [
    "df20 = df2[~((df2['LT'] <0) | (df2['LT'].isnull()) | (df2.Uni_Iden.duplicated()))]"
   ]
  },
  {
   "cell_type": "code",
   "execution_count": 181,
   "id": "83dc0c1a",
   "metadata": {},
   "outputs": [],
   "source": [
    "a1 = ['Bad', 'Negative', 'Duplicate', 'Clean']"
   ]
  },
  {
   "cell_type": "code",
   "execution_count": 189,
   "id": "bf943ef1",
   "metadata": {},
   "outputs": [
    {
     "data": {
      "text/plain": [
       "3261"
      ]
     },
     "execution_count": 189,
     "metadata": {},
     "output_type": "execute_result"
    }
   ],
   "source": [
    "len(df1[~((df1['LT'] <0) | (df1['LT'].isnull()) | (df1.Uni_Iden.duplicated()))])"
   ]
  },
  {
   "cell_type": "code",
   "execution_count": 190,
   "id": "ac3a030a",
   "metadata": {},
   "outputs": [],
   "source": [
    "b1 = [(df1['LT'].isnull()).sum(), (df1['LT'] <0).sum(), (df1.Uni_Iden.duplicated()).sum(), len(df1[~((df1['LT'] <0) | (df1['LT'].isnull()) | (df1.Uni_Iden.duplicated()))]) ]"
   ]
  },
  {
   "cell_type": "code",
   "execution_count": 191,
   "id": "72beb588",
   "metadata": {},
   "outputs": [
    {
     "data": {
      "text/plain": [
       "[0, 3, 372, 3261]"
      ]
     },
     "execution_count": 191,
     "metadata": {},
     "output_type": "execute_result"
    }
   ],
   "source": [
    "b1"
   ]
  },
  {
   "cell_type": "code",
   "execution_count": 193,
   "id": "d1b456e3",
   "metadata": {},
   "outputs": [
    {
     "data": {
      "image/png": "[encoded data removed]",
      "text/plain": [
       "<Figure size 720x504 with 1 Axes>"
      ]
     },
     "metadata": {},
     "output_type": "display_data"
    }
   ],
   "source": [
    "fig = plt.figure(figsize =(10, 7))\n",
    "plt.pie(b1, labels = a1)\n",
    "explode = [0, 0, 0, 0.1]\n",
    "plt.show()"
   ]
  },
  {
   "cell_type": "code",
   "execution_count": 203,
   "id": "a29031ab",
   "metadata": {},
   "outputs": [
    {
     "data": {
      "image/png": "[encoded data removed]",
      "text/plain": [
       "<Figure size 432x288 with 1 Axes>"
      ]
     },
     "metadata": {},
     "output_type": "display_data"
    }
   ],
   "source": [
    "explode = [0, 0, 0, 0.1]\n",
    "colors = ['#ff9999','#66b3ff','#99ff99','#008000']\n",
    "plt.pie(b1, explode=explode, labels=a1, autopct='%1.1f%%', startangle=90, colors = colors)\n",
    "plt.axis('equal')\n",
    "plt.tight_layout()\n",
    "plt.show()"
   ]
  },
  {
   "cell_type": "code",
   "execution_count": 204,
   "id": "0a298e9c",
   "metadata": {},
   "outputs": [],
   "source": [
    "b2 = [(df2['LT'].isnull()).sum(), (df2['LT'] <0).sum(), (df2.Uni_Iden.duplicated()).sum(), len(df2[~((df2['LT'] <0) | (df2['LT'].isnull()) | (df2.Uni_Iden.duplicated()))]) ]"
   ]
  },
  {
   "cell_type": "code",
   "execution_count": 205,
   "id": "48db6511",
   "metadata": {},
   "outputs": [
    {
     "data": {
      "text/plain": [
       "[93, 0, 0, 7790]"
      ]
     },
     "execution_count": 205,
     "metadata": {},
     "output_type": "execute_result"
    }
   ],
   "source": [
    "b2"
   ]
  },
  {
   "cell_type": "code",
   "execution_count": 206,
   "id": "86e6f407",
   "metadata": {},
   "outputs": [
    {
     "data": {
      "image/png": "[encoded data removed]",
      "text/plain": [
       "<Figure size 432x288 with 1 Axes>"
      ]
     },
     "metadata": {},
     "output_type": "display_data"
    }
   ],
   "source": [
    "explode = [0, 0, 0, 0.1]\n",
    "colors = ['#ff9999','#66b3ff','#99ff99','#008000']\n",
    "plt.pie(b2, explode=explode, labels=a1, autopct='%1.1f%%', startangle=90, colors = colors)\n",
    "plt.axis('equal')\n",
    "plt.tight_layout()\n",
    "plt.show()"
   ]
  },
  {
   "cell_type": "code",
   "execution_count": 221,
   "id": "3f1e8447",
   "metadata": {},
   "outputs": [
    {
     "data": {
      "text/html": [
       "<div>\n",
       "<style scoped>\n",
       "    .dataframe tbody tr th:only-of-type {\n",
       "        vertical-align: middle;\n",
       "    }\n",
       "\n",
       "    .dataframe tbody tr th {\n",
       "        vertical-align: top;\n",
       "    }\n",
       "\n",
       "    .dataframe thead th {\n",
       "        text-align: right;\n",
       "    }\n",
       "</style>\n",
       "<table border=\"1\" class=\"dataframe\">\n",
       "  <thead>\n",
       "    <tr style=\"text-align: right;\">\n",
       "      <th></th>\n",
       "      <th>GRQR</th>\n",
       "      <th>PO-QR</th>\n",
       "    </tr>\n",
       "  </thead>\n",
       "  <tbody>\n",
       "    <tr>\n",
       "      <th>Bad</th>\n",
       "      <td>0</td>\n",
       "      <td>93</td>\n",
       "    </tr>\n",
       "    <tr>\n",
       "      <th>Negative</th>\n",
       "      <td>3</td>\n",
       "      <td>0</td>\n",
       "    </tr>\n",
       "    <tr>\n",
       "      <th>Duplicate</th>\n",
       "      <td>372</td>\n",
       "      <td>0</td>\n",
       "    </tr>\n",
       "    <tr>\n",
       "      <th>Clean</th>\n",
       "      <td>3261</td>\n",
       "      <td>7790</td>\n",
       "    </tr>\n",
       "  </tbody>\n",
       "</table>\n",
       "</div>"
      ],
      "text/plain": [
       "           GRQR  PO-QR\n",
       "Bad           0     93\n",
       "Negative      3      0\n",
       "Duplicate   372      0\n",
       "Clean      3261   7790"
      ]
     },
     "execution_count": 221,
     "metadata": {},
     "output_type": "execute_result"
    }
   ],
   "source": [
    "pd.DataFrame(list(zip(b1, b2)), index = a1, columns = ['GRQR', 'PO-QR'])"
   ]
  },
  {
   "cell_type": "code",
   "execution_count": 56,
   "id": "ff4cfa98",
   "metadata": {},
   "outputs": [
    {
     "data": {
      "text/html": [
       "<div>\n",
       "<style scoped>\n",
       "    .dataframe tbody tr th:only-of-type {\n",
       "        vertical-align: middle;\n",
       "    }\n",
       "\n",
       "    .dataframe tbody tr th {\n",
       "        vertical-align: top;\n",
       "    }\n",
       "\n",
       "    .dataframe thead th {\n",
       "        text-align: right;\n",
       "    }\n",
       "</style>\n",
       "<table border=\"1\" class=\"dataframe\">\n",
       "  <thead>\n",
       "    <tr style=\"text-align: right;\">\n",
       "      <th></th>\n",
       "      <th>ORDER_NUM</th>\n",
       "      <th>ORDER_LINE_NBR</th>\n",
       "      <th>ORDER_TYPE_CD</th>\n",
       "      <th>ORDER_TYPE_DESC</th>\n",
       "      <th>PROC_MATL_NUM</th>\n",
       "      <th>PROC_MATL_TYPE_CD</th>\n",
       "      <th>PROC_MATL_TYPE_DESC</th>\n",
       "      <th>MFG_LOC_NUM</th>\n",
       "      <th>MFG_BTCH_NUM</th>\n",
       "      <th>MFG_MATL_PLAN_QTY</th>\n",
       "      <th>...</th>\n",
       "      <th>End Date</th>\n",
       "      <th>QR Date</th>\n",
       "      <th>Qty</th>\n",
       "      <th>QR Qty</th>\n",
       "      <th>UOM</th>\n",
       "      <th>Process Step</th>\n",
       "      <th>Planned Start Date</th>\n",
       "      <th>Generation</th>\n",
       "      <th>LT</th>\n",
       "      <th>Uni_Iden</th>\n",
       "    </tr>\n",
       "  </thead>\n",
       "  <tbody>\n",
       "    <tr>\n",
       "      <th>0</th>\n",
       "      <td>1175702</td>\n",
       "      <td>1</td>\n",
       "      <td>RP01</td>\n",
       "      <td>Regular Process Order (PSGA)</td>\n",
       "      <td>908354</td>\n",
       "      <td>ZWIP</td>\n",
       "      <td>Z_Work-In-Process/Bulk</td>\n",
       "      <td>1300</td>\n",
       "      <td>16AG3754</td>\n",
       "      <td>111.68</td>\n",
       "      <td>...</td>\n",
       "      <td>2016-02-02</td>\n",
       "      <td>?</td>\n",
       "      <td>110.2</td>\n",
       "      <td>?</td>\n",
       "      <td>KG</td>\n",
       "      <td>Granulation</td>\n",
       "      <td>2015-11-10</td>\n",
       "      <td>Unlabelled</td>\n",
       "      <td>0.0</td>\n",
       "      <td>117570216AG3754</td>\n",
       "    </tr>\n",
       "    <tr>\n",
       "      <th>1</th>\n",
       "      <td>1175703</td>\n",
       "      <td>1</td>\n",
       "      <td>RP01</td>\n",
       "      <td>Regular Process Order (PSGA)</td>\n",
       "      <td>908354</td>\n",
       "      <td>ZWIP</td>\n",
       "      <td>Z_Work-In-Process/Bulk</td>\n",
       "      <td>1300</td>\n",
       "      <td>16AG3755</td>\n",
       "      <td>111.68</td>\n",
       "      <td>...</td>\n",
       "      <td>2016-02-02</td>\n",
       "      <td>?</td>\n",
       "      <td>110.5</td>\n",
       "      <td>?</td>\n",
       "      <td>KG</td>\n",
       "      <td>Granulation</td>\n",
       "      <td>2015-11-10</td>\n",
       "      <td>Unlabelled</td>\n",
       "      <td>0.0</td>\n",
       "      <td>117570316AG3755</td>\n",
       "    </tr>\n",
       "    <tr>\n",
       "      <th>2</th>\n",
       "      <td>1175704</td>\n",
       "      <td>1</td>\n",
       "      <td>RP01</td>\n",
       "      <td>Regular Process Order (PSGA)</td>\n",
       "      <td>908354</td>\n",
       "      <td>ZWIP</td>\n",
       "      <td>Z_Work-In-Process/Bulk</td>\n",
       "      <td>1300</td>\n",
       "      <td>16AG3756</td>\n",
       "      <td>111.68</td>\n",
       "      <td>...</td>\n",
       "      <td>2016-02-02</td>\n",
       "      <td>?</td>\n",
       "      <td>110.8</td>\n",
       "      <td>?</td>\n",
       "      <td>KG</td>\n",
       "      <td>Granulation</td>\n",
       "      <td>2015-11-10</td>\n",
       "      <td>Unlabelled</td>\n",
       "      <td>0.0</td>\n",
       "      <td>117570416AG3756</td>\n",
       "    </tr>\n",
       "    <tr>\n",
       "      <th>3</th>\n",
       "      <td>1175705</td>\n",
       "      <td>1</td>\n",
       "      <td>RP01</td>\n",
       "      <td>Regular Process Order (PSGA)</td>\n",
       "      <td>908354</td>\n",
       "      <td>ZWIP</td>\n",
       "      <td>Z_Work-In-Process/Bulk</td>\n",
       "      <td>1300</td>\n",
       "      <td>16AG3757</td>\n",
       "      <td>111.68</td>\n",
       "      <td>...</td>\n",
       "      <td>2016-02-03</td>\n",
       "      <td>?</td>\n",
       "      <td>111.0</td>\n",
       "      <td>?</td>\n",
       "      <td>KG</td>\n",
       "      <td>Granulation</td>\n",
       "      <td>2015-11-10</td>\n",
       "      <td>Unlabelled</td>\n",
       "      <td>0.0</td>\n",
       "      <td>117570516AG3757</td>\n",
       "    </tr>\n",
       "    <tr>\n",
       "      <th>4</th>\n",
       "      <td>1175706</td>\n",
       "      <td>1</td>\n",
       "      <td>RP01</td>\n",
       "      <td>Regular Process Order (PSGA)</td>\n",
       "      <td>908354</td>\n",
       "      <td>ZWIP</td>\n",
       "      <td>Z_Work-In-Process/Bulk</td>\n",
       "      <td>1300</td>\n",
       "      <td>16AG3758</td>\n",
       "      <td>111.68</td>\n",
       "      <td>...</td>\n",
       "      <td>2016-02-03</td>\n",
       "      <td>?</td>\n",
       "      <td>110.7</td>\n",
       "      <td>?</td>\n",
       "      <td>KG</td>\n",
       "      <td>Granulation</td>\n",
       "      <td>2015-11-10</td>\n",
       "      <td>Unlabelled</td>\n",
       "      <td>0.0</td>\n",
       "      <td>117570616AG3758</td>\n",
       "    </tr>\n",
       "    <tr>\n",
       "      <th>...</th>\n",
       "      <td>...</td>\n",
       "      <td>...</td>\n",
       "      <td>...</td>\n",
       "      <td>...</td>\n",
       "      <td>...</td>\n",
       "      <td>...</td>\n",
       "      <td>...</td>\n",
       "      <td>...</td>\n",
       "      <td>...</td>\n",
       "      <td>...</td>\n",
       "      <td>...</td>\n",
       "      <td>...</td>\n",
       "      <td>...</td>\n",
       "      <td>...</td>\n",
       "      <td>...</td>\n",
       "      <td>...</td>\n",
       "      <td>...</td>\n",
       "      <td>...</td>\n",
       "      <td>...</td>\n",
       "      <td>...</td>\n",
       "      <td>...</td>\n",
       "    </tr>\n",
       "    <tr>\n",
       "      <th>7863</th>\n",
       "      <td>62015240</td>\n",
       "      <td>1</td>\n",
       "      <td>ZVAC</td>\n",
       "      <td>Chemical production - validation</td>\n",
       "      <td>498244</td>\n",
       "      <td>TPC</td>\n",
       "      <td>Intermed. Product Chem.</td>\n",
       "      <td>BEP7</td>\n",
       "      <td>I17LB3585</td>\n",
       "      <td>604.00</td>\n",
       "      <td>...</td>\n",
       "      <td>2017-12-08</td>\n",
       "      <td>2018-02-06 00:00:00</td>\n",
       "      <td>618.4</td>\n",
       "      <td>618.4</td>\n",
       "      <td>KG</td>\n",
       "      <td>API_2</td>\n",
       "      <td>2017-12-05</td>\n",
       "      <td>2nd Gen</td>\n",
       "      <td>0.0</td>\n",
       "      <td>62015240I17LB3585</td>\n",
       "    </tr>\n",
       "    <tr>\n",
       "      <th>7868</th>\n",
       "      <td>62015303</td>\n",
       "      <td>1</td>\n",
       "      <td>ZVAC</td>\n",
       "      <td>Chemical production - validation</td>\n",
       "      <td>498244</td>\n",
       "      <td>TPC</td>\n",
       "      <td>Intermed. Product Chem.</td>\n",
       "      <td>BEP7</td>\n",
       "      <td>I17LB3674</td>\n",
       "      <td>604.00</td>\n",
       "      <td>...</td>\n",
       "      <td>2017-12-11</td>\n",
       "      <td>2018-01-29 00:00:00</td>\n",
       "      <td>620.4</td>\n",
       "      <td>620.4</td>\n",
       "      <td>KG</td>\n",
       "      <td>API_2</td>\n",
       "      <td>2017-12-08</td>\n",
       "      <td>2nd Gen</td>\n",
       "      <td>0.0</td>\n",
       "      <td>62015303I17LB3674</td>\n",
       "    </tr>\n",
       "    <tr>\n",
       "      <th>7869</th>\n",
       "      <td>62015304</td>\n",
       "      <td>1</td>\n",
       "      <td>ZVAC</td>\n",
       "      <td>Chemical production - validation</td>\n",
       "      <td>498244</td>\n",
       "      <td>TPC</td>\n",
       "      <td>Intermed. Product Chem.</td>\n",
       "      <td>BEP7</td>\n",
       "      <td>I17LB3675</td>\n",
       "      <td>604.00</td>\n",
       "      <td>...</td>\n",
       "      <td>2017-12-12</td>\n",
       "      <td>2018-01-30 00:00:00</td>\n",
       "      <td>638.6</td>\n",
       "      <td>638.6</td>\n",
       "      <td>KG</td>\n",
       "      <td>API_2</td>\n",
       "      <td>2017-12-08</td>\n",
       "      <td>2nd Gen</td>\n",
       "      <td>0.0</td>\n",
       "      <td>62015304I17LB3675</td>\n",
       "    </tr>\n",
       "    <tr>\n",
       "      <th>7873</th>\n",
       "      <td>62015806</td>\n",
       "      <td>1</td>\n",
       "      <td>ZVAC</td>\n",
       "      <td>Chemical production - validation</td>\n",
       "      <td>499091</td>\n",
       "      <td>TPC</td>\n",
       "      <td>Intermed. Product Chem.</td>\n",
       "      <td>BEP7</td>\n",
       "      <td>#</td>\n",
       "      <td>734.00</td>\n",
       "      <td>...</td>\n",
       "      <td>2018-04-25</td>\n",
       "      <td>2018-05-15 00:00:00</td>\n",
       "      <td>744.4</td>\n",
       "      <td>744.4</td>\n",
       "      <td>KG</td>\n",
       "      <td>API_5</td>\n",
       "      <td>2018-04-22</td>\n",
       "      <td>Unlabelled</td>\n",
       "      <td>0.0</td>\n",
       "      <td>62015806#</td>\n",
       "    </tr>\n",
       "    <tr>\n",
       "      <th>7882</th>\n",
       "      <td>62016171</td>\n",
       "      <td>1</td>\n",
       "      <td>ZVAC</td>\n",
       "      <td>Chemical production - validation</td>\n",
       "      <td>499091</td>\n",
       "      <td>TPC</td>\n",
       "      <td>Intermed. Product Chem.</td>\n",
       "      <td>BEP7</td>\n",
       "      <td>I19AB0083</td>\n",
       "      <td>1157.00</td>\n",
       "      <td>...</td>\n",
       "      <td>2019-01-18</td>\n",
       "      <td>?</td>\n",
       "      <td>1241.2</td>\n",
       "      <td>?</td>\n",
       "      <td>KG</td>\n",
       "      <td>API_5</td>\n",
       "      <td>2019-01-15</td>\n",
       "      <td>Unlabelled</td>\n",
       "      <td>0.0</td>\n",
       "      <td>62016171I19AB0083</td>\n",
       "    </tr>\n",
       "  </tbody>\n",
       "</table>\n",
       "<p>6070 rows × 32 columns</p>\n",
       "</div>"
      ],
      "text/plain": [
       "      ORDER_NUM  ORDER_LINE_NBR ORDER_TYPE_CD  \\\n",
       "0       1175702               1          RP01   \n",
       "1       1175703               1          RP01   \n",
       "2       1175704               1          RP01   \n",
       "3       1175705               1          RP01   \n",
       "4       1175706               1          RP01   \n",
       "...         ...             ...           ...   \n",
       "7863   62015240               1          ZVAC   \n",
       "7868   62015303               1          ZVAC   \n",
       "7869   62015304               1          ZVAC   \n",
       "7873   62015806               1          ZVAC   \n",
       "7882   62016171               1          ZVAC   \n",
       "\n",
       "                       ORDER_TYPE_DESC  PROC_MATL_NUM PROC_MATL_TYPE_CD  \\\n",
       "0         Regular Process Order (PSGA)         908354              ZWIP   \n",
       "1         Regular Process Order (PSGA)         908354              ZWIP   \n",
       "2         Regular Process Order (PSGA)         908354              ZWIP   \n",
       "3         Regular Process Order (PSGA)         908354              ZWIP   \n",
       "4         Regular Process Order (PSGA)         908354              ZWIP   \n",
       "...                                ...            ...               ...   \n",
       "7863  Chemical production - validation         498244               TPC   \n",
       "7868  Chemical production - validation         498244               TPC   \n",
       "7869  Chemical production - validation         498244               TPC   \n",
       "7873  Chemical production - validation         499091               TPC   \n",
       "7882  Chemical production - validation         499091               TPC   \n",
       "\n",
       "          PROC_MATL_TYPE_DESC MFG_LOC_NUM MFG_BTCH_NUM  MFG_MATL_PLAN_QTY  \\\n",
       "0      Z_Work-In-Process/Bulk        1300     16AG3754             111.68   \n",
       "1      Z_Work-In-Process/Bulk        1300     16AG3755             111.68   \n",
       "2      Z_Work-In-Process/Bulk        1300     16AG3756             111.68   \n",
       "3      Z_Work-In-Process/Bulk        1300     16AG3757             111.68   \n",
       "4      Z_Work-In-Process/Bulk        1300     16AG3758             111.68   \n",
       "...                       ...         ...          ...                ...   \n",
       "7863  Intermed. Product Chem.        BEP7    I17LB3585             604.00   \n",
       "7868  Intermed. Product Chem.        BEP7    I17LB3674             604.00   \n",
       "7869  Intermed. Product Chem.        BEP7    I17LB3675             604.00   \n",
       "7873  Intermed. Product Chem.        BEP7            #             734.00   \n",
       "7882  Intermed. Product Chem.        BEP7    I19AB0083            1157.00   \n",
       "\n",
       "      ...   End Date              QR Date     Qty QR Qty UOM Process Step  \\\n",
       "0     ... 2016-02-02                    ?   110.2      ?  KG  Granulation   \n",
       "1     ... 2016-02-02                    ?   110.5      ?  KG  Granulation   \n",
       "2     ... 2016-02-02                    ?   110.8      ?  KG  Granulation   \n",
       "3     ... 2016-02-03                    ?   111.0      ?  KG  Granulation   \n",
       "4     ... 2016-02-03                    ?   110.7      ?  KG  Granulation   \n",
       "...   ...        ...                  ...     ...    ...  ..          ...   \n",
       "7863  ... 2017-12-08  2018-02-06 00:00:00   618.4  618.4  KG        API_2   \n",
       "7868  ... 2017-12-11  2018-01-29 00:00:00   620.4  620.4  KG        API_2   \n",
       "7869  ... 2017-12-12  2018-01-30 00:00:00   638.6  638.6  KG        API_2   \n",
       "7873  ... 2018-04-25  2018-05-15 00:00:00   744.4  744.4  KG        API_5   \n",
       "7882  ... 2019-01-18                    ?  1241.2      ?  KG        API_5   \n",
       "\n",
       "     Planned Start Date  Generation   LT           Uni_Iden  \n",
       "0            2015-11-10  Unlabelled  0.0    117570216AG3754  \n",
       "1            2015-11-10  Unlabelled  0.0    117570316AG3755  \n",
       "2            2015-11-10  Unlabelled  0.0    117570416AG3756  \n",
       "3            2015-11-10  Unlabelled  0.0    117570516AG3757  \n",
       "4            2015-11-10  Unlabelled  0.0    117570616AG3758  \n",
       "...                 ...         ...  ...                ...  \n",
       "7863         2017-12-05     2nd Gen  0.0  62015240I17LB3585  \n",
       "7868         2017-12-08     2nd Gen  0.0  62015303I17LB3674  \n",
       "7869         2017-12-08     2nd Gen  0.0  62015304I17LB3675  \n",
       "7873         2018-04-22  Unlabelled  0.0          62015806#  \n",
       "7882         2019-01-15  Unlabelled  0.0  62016171I19AB0083  \n",
       "\n",
       "[6070 rows x 32 columns]"
      ]
     },
     "execution_count": 56,
     "metadata": {},
     "output_type": "execute_result"
    }
   ],
   "source": [
    "df20"
   ]
  },
  {
   "cell_type": "code",
   "execution_count": 57,
   "id": "8357df36",
   "metadata": {},
   "outputs": [
    {
     "data": {
      "text/plain": [
       "count    3261.000000\n",
       "mean       60.680773\n",
       "std        95.301566\n",
       "min         2.000000\n",
       "25%        19.000000\n",
       "50%        36.000000\n",
       "75%        61.000000\n",
       "max      1058.000000\n",
       "Name: LT, dtype: float64"
      ]
     },
     "execution_count": 57,
     "metadata": {},
     "output_type": "execute_result"
    }
   ],
   "source": [
    "df10['LT'].describe()"
   ]
  },
  {
   "cell_type": "code",
   "execution_count": 58,
   "id": "7227ecb8",
   "metadata": {},
   "outputs": [
    {
     "data": {
      "text/plain": [
       "count    6070.000000\n",
       "mean        5.411367\n",
       "std        10.476203\n",
       "min         0.000000\n",
       "25%         0.000000\n",
       "50%         1.000000\n",
       "75%         7.000000\n",
       "max       165.000000\n",
       "Name: LT, dtype: float64"
      ]
     },
     "execution_count": 58,
     "metadata": {},
     "output_type": "execute_result"
    }
   ],
   "source": [
    "df20['LT'].describe()"
   ]
  },
  {
   "cell_type": "markdown",
   "id": "f11998e8",
   "metadata": {},
   "source": [
    "## Task 5"
   ]
  },
  {
   "cell_type": "code",
   "execution_count": 71,
   "id": "e493a182",
   "metadata": {},
   "outputs": [],
   "source": [
    "import matplotlib.pyplot as plt"
   ]
  },
  {
   "cell_type": "code",
   "execution_count": null,
   "id": "3e4b36c6",
   "metadata": {},
   "outputs": [],
   "source": [
    "import statistics as st"
   ]
  },
  {
   "cell_type": "code",
   "execution_count": 104,
   "id": "f45f1092",
   "metadata": {},
   "outputs": [],
   "source": [
    "x1 = []\n",
    "y1 = []\n",
    "x2 = []\n",
    "y2 = []"
   ]
  },
  {
   "cell_type": "code",
   "execution_count": 107,
   "id": "36c236fe",
   "metadata": {},
   "outputs": [],
   "source": [
    "for i in range(1,11):\n",
    "    y1.append((df10['LT'].sample(n=100, random_state=i)).mean())\n",
    "    x1.append(i)\n",
    "    y2.append((df20['LT'].sample(n=100, random_state=i)).mean())\n",
    "    x2.append(i)"
   ]
  },
  {
   "cell_type": "code",
   "execution_count": 148,
   "id": "4966401f",
   "metadata": {},
   "outputs": [
    {
     "data": {
      "image/png": "[encoded data removed]",
      "text/plain": [
       "<Figure size 432x288 with 1 Axes>"
      ]
     },
     "metadata": {},
     "output_type": "display_data"
    }
   ],
   "source": [
    "plt.plot(x1,y1,marker='o', label='Sample mean')\n",
    "plt.xlim(0,11)\n",
    "plt.axhline(df10['LT'].mean(), color = 'black', linestyle='dashed', label='Mean')\n",
    "plt.axhline(df10['LT'].mean()+(st.stdev(df10['LT']))*3, color = 'red', linestyle='dashed', label='UCL')\n",
    "plt.axhline(df10['LT'].mean()-(st.stdev(df10['LT']))*3, color = 'green', linestyle='dashed', label='LCL')\n",
    "plt.title('Control chart for GRQR')\n",
    "plt.xlabel('Sample')\n",
    "plt.ylabel('Sample mean')\n",
    "plt.grid(False)\n",
    "plt.legend()\n",
    "plt.show()"
   ]
  },
  {
   "cell_type": "code",
   "execution_count": 222,
   "id": "600b51a2",
   "metadata": {},
   "outputs": [
    {
     "data": {
      "image/png": "[encoded data removed]",
      "text/plain": [
       "<Figure size 432x288 with 1 Axes>"
      ]
     },
     "metadata": {},
     "output_type": "display_data"
    }
   ],
   "source": [
    "plt.plot(x2,y2,marker='o', label='Sample mean')\n",
    "plt.xlim(0,11)\n",
    "plt.axhline(df20['LT'].mean(), color = 'black', linestyle='dashed', label='Mean')\n",
    "plt.axhline(df20['LT'].mean()+((st.stdev(df20['LT']))*3), color = 'red', linestyle='dashed', label='UCL')\n",
    "plt.axhline(df20['LT'].mean()-((st.stdev(df20['LT']))*3), color = 'green', linestyle='dashed', label='LCL')\n",
    "plt.title('Control chart for PO-QR')\n",
    "plt.xlabel('Sample')\n",
    "plt.ylabel('Sample mean')\n",
    "plt.grid(False)\n",
    "plt.legend()\n",
    "plt.show()"
   ]
  },
  {
   "cell_type": "code",
   "execution_count": null,
   "id": "1c77e9a8",
   "metadata": {},
   "outputs": [],
   "source": []
  }
 ],
 "metadata": {
  "kernelspec": {
   "display_name": "Python 3",
   "language": "python",
   "name": "python3"
  },
  "language_info": {
   "codemirror_mode": {
    "name": "ipython",
    "version": 3
   },
   "file_extension": ".py",
   "mimetype": "text/x-python",
   "name": "python",
   "nbconvert_exporter": "python",
   "pygments_lexer": "ipython3",
   "version": "3.8.8"
  }
 },
 "nbformat": 4,
 "nbformat_minor": 5
}
